{
 "cells": [
  {
   "cell_type": "markdown",
   "metadata": {},
   "source": [
    "# Google Colab Setup \n",
    "\n",
    "Please run the code below to mount drive if you are running on colab.\n",
    "\n",
    "Please ignore if you are running on your local machine."
   ]
  },
  {
   "cell_type": "code",
   "execution_count": null,
   "metadata": {},
   "outputs": [],
   "source": [
    "# from google.colab import drive\n",
    "# drive.mount('/content/drive')"
   ]
  },
  {
   "cell_type": "code",
   "execution_count": 1,
   "metadata": {},
   "outputs": [
    {
     "name": "stdout",
     "output_type": "stream",
     "text": [
      "/home/alex/Downloads/MiniGPT\n"
     ]
    },
    {
     "name": "stderr",
     "output_type": "stream",
     "text": [
      "/home/alex/anaconda3/envs/239as/lib/python3.9/site-packages/IPython/core/magics/osm.py:417: UserWarning: using dhist requires you to install the `pickleshare` library.\n",
      "  self.shell.db['dhist'] = compress_dhist(dhist)[-100:]\n"
     ]
    }
   ],
   "source": [
    "%cd /home/alex/Downloads/MiniGPT"
   ]
  },
  {
   "cell_type": "markdown",
   "metadata": {},
   "source": [
    "# Language Modeling and Transformers\n",
    "\n",
    "The project will consist of two broad parts. \n",
    "\n",
    "1. **Baseline Generative Language Model**: We will train a simple Bigram language model on the text data. We will use this model to generate a mini story. \n",
    "2. **Implementing Mini GPT**: We will implement a mini version of the GPT model layer by layer and attempt to train it on the text data. You will then load pretrained weights provided and generate a mini story. "
   ]
  },
  {
   "cell_type": "markdown",
   "metadata": {},
   "source": [
    "## Some general instructions \n",
    "\n",
    "1. Please keep the name of layers consistent with what is requested in the `model.py` file for each layer, this helps us test in each function independently. \n",
    "2. Please check to see if the bias is to be set to false or true for all linear layers (it is mentioned in the doc string)\n",
    "3. As a general rule please read the docstring well, it contains information you will need to write the code. \n",
    "4. All configs are defined in `config.py` for the first part while you are writing the code do not change the values in the config file since we use them to test. Once you have passed all the tests please feel free to vary the parameter as you please.\n",
    "5. You will need to fill in the `train.py` and run it to train the model. If you are running into memory issues please feel free to change the `batch_size` in the `config.py` file. If you are working on Colab please make sure to use the GPU runtime and feel free to copy over the training code to the notebook. "
   ]
  },
  {
   "cell_type": "code",
   "execution_count": 2,
   "metadata": {},
   "outputs": [
    {
     "name": "stdout",
     "output_type": "stream",
     "text": [
      "Looking in indexes: https://pypi.org/simple, https://packagecloud.io/github/git-lfs/pypi/simple\n",
      "Requirement already satisfied: numpy in /home/alex/anaconda3/envs/239as/lib/python3.9/site-packages (1.26.4)\n",
      "Requirement already satisfied: torch in /home/alex/anaconda3/envs/239as/lib/python3.9/site-packages (2.2.2)\n",
      "Requirement already satisfied: tiktoken in /home/alex/anaconda3/envs/239as/lib/python3.9/site-packages (0.7.0)\n",
      "Requirement already satisfied: wandb in /home/alex/anaconda3/envs/239as/lib/python3.9/site-packages (0.17.0)\n",
      "Requirement already satisfied: einops in /home/alex/anaconda3/envs/239as/lib/python3.9/site-packages (0.8.0)\n",
      "Requirement already satisfied: filelock in /home/alex/anaconda3/envs/239as/lib/python3.9/site-packages (from torch) (3.13.4)\n",
      "Requirement already satisfied: typing-extensions>=4.8.0 in /home/alex/anaconda3/envs/239as/lib/python3.9/site-packages (from torch) (4.11.0)\n",
      "Requirement already satisfied: sympy in /home/alex/anaconda3/envs/239as/lib/python3.9/site-packages (from torch) (1.12)\n",
      "Requirement already satisfied: networkx in /home/alex/anaconda3/envs/239as/lib/python3.9/site-packages (from torch) (3.2.1)\n",
      "Requirement already satisfied: jinja2 in /home/alex/anaconda3/envs/239as/lib/python3.9/site-packages (from torch) (3.1.3)\n",
      "Requirement already satisfied: fsspec in /home/alex/anaconda3/envs/239as/lib/python3.9/site-packages (from torch) (2024.3.1)\n",
      "Requirement already satisfied: nvidia-cuda-nvrtc-cu12==12.1.105 in /home/alex/anaconda3/envs/239as/lib/python3.9/site-packages (from torch) (12.1.105)\n",
      "Requirement already satisfied: nvidia-cuda-runtime-cu12==12.1.105 in /home/alex/anaconda3/envs/239as/lib/python3.9/site-packages (from torch) (12.1.105)\n",
      "Requirement already satisfied: nvidia-cuda-cupti-cu12==12.1.105 in /home/alex/anaconda3/envs/239as/lib/python3.9/site-packages (from torch) (12.1.105)\n",
      "Requirement already satisfied: nvidia-cudnn-cu12==8.9.2.26 in /home/alex/anaconda3/envs/239as/lib/python3.9/site-packages (from torch) (8.9.2.26)\n",
      "Requirement already satisfied: nvidia-cublas-cu12==12.1.3.1 in /home/alex/anaconda3/envs/239as/lib/python3.9/site-packages (from torch) (12.1.3.1)\n",
      "Requirement already satisfied: nvidia-cufft-cu12==11.0.2.54 in /home/alex/anaconda3/envs/239as/lib/python3.9/site-packages (from torch) (11.0.2.54)\n",
      "Requirement already satisfied: nvidia-curand-cu12==10.3.2.106 in /home/alex/anaconda3/envs/239as/lib/python3.9/site-packages (from torch) (10.3.2.106)\n",
      "Requirement already satisfied: nvidia-cusolver-cu12==11.4.5.107 in /home/alex/anaconda3/envs/239as/lib/python3.9/site-packages (from torch) (11.4.5.107)\n",
      "Requirement already satisfied: nvidia-cusparse-cu12==12.1.0.106 in /home/alex/anaconda3/envs/239as/lib/python3.9/site-packages (from torch) (12.1.0.106)\n",
      "Requirement already satisfied: nvidia-nccl-cu12==2.19.3 in /home/alex/anaconda3/envs/239as/lib/python3.9/site-packages (from torch) (2.19.3)\n",
      "Requirement already satisfied: nvidia-nvtx-cu12==12.1.105 in /home/alex/anaconda3/envs/239as/lib/python3.9/site-packages (from torch) (12.1.105)\n",
      "Requirement already satisfied: triton==2.2.0 in /home/alex/anaconda3/envs/239as/lib/python3.9/site-packages (from torch) (2.2.0)\n",
      "Requirement already satisfied: nvidia-nvjitlink-cu12 in /home/alex/anaconda3/envs/239as/lib/python3.9/site-packages (from nvidia-cusolver-cu12==11.4.5.107->torch) (12.4.127)\n",
      "Requirement already satisfied: regex>=2022.1.18 in /home/alex/anaconda3/envs/239as/lib/python3.9/site-packages (from tiktoken) (2024.5.15)\n",
      "Requirement already satisfied: requests>=2.26.0 in /home/alex/anaconda3/envs/239as/lib/python3.9/site-packages (from tiktoken) (2.31.0)\n",
      "Requirement already satisfied: click!=8.0.0,>=7.1 in /home/alex/anaconda3/envs/239as/lib/python3.9/site-packages (from wandb) (8.1.7)\n",
      "Requirement already satisfied: docker-pycreds>=0.4.0 in /home/alex/anaconda3/envs/239as/lib/python3.9/site-packages (from wandb) (0.4.0)\n",
      "Requirement already satisfied: gitpython!=3.1.29,>=1.0.0 in /home/alex/anaconda3/envs/239as/lib/python3.9/site-packages (from wandb) (3.1.43)\n",
      "Requirement already satisfied: platformdirs in /home/alex/anaconda3/envs/239as/lib/python3.9/site-packages (from wandb) (4.2.0)\n",
      "Requirement already satisfied: protobuf!=4.21.0,<5,>=3.15.0 in /home/alex/anaconda3/envs/239as/lib/python3.9/site-packages (from wandb) (4.25.3)\n",
      "Requirement already satisfied: psutil>=5.0.0 in /home/alex/anaconda3/envs/239as/lib/python3.9/site-packages (from wandb) (5.9.8)\n",
      "Requirement already satisfied: pyyaml in /home/alex/anaconda3/envs/239as/lib/python3.9/site-packages (from wandb) (6.0.1)\n",
      "Requirement already satisfied: sentry-sdk>=1.0.0 in /home/alex/anaconda3/envs/239as/lib/python3.9/site-packages (from wandb) (2.1.1)\n",
      "Requirement already satisfied: setproctitle in /home/alex/anaconda3/envs/239as/lib/python3.9/site-packages (from wandb) (1.3.3)\n",
      "Requirement already satisfied: setuptools in /home/alex/anaconda3/envs/239as/lib/python3.9/site-packages (from wandb) (68.2.2)\n",
      "Requirement already satisfied: six>=1.4.0 in /home/alex/anaconda3/envs/239as/lib/python3.9/site-packages (from docker-pycreds>=0.4.0->wandb) (1.16.0)\n",
      "Requirement already satisfied: gitdb<5,>=4.0.1 in /home/alex/anaconda3/envs/239as/lib/python3.9/site-packages (from gitpython!=3.1.29,>=1.0.0->wandb) (4.0.11)\n",
      "Requirement already satisfied: charset-normalizer<4,>=2 in /home/alex/anaconda3/envs/239as/lib/python3.9/site-packages (from requests>=2.26.0->tiktoken) (3.3.2)\n",
      "Requirement already satisfied: idna<4,>=2.5 in /home/alex/anaconda3/envs/239as/lib/python3.9/site-packages (from requests>=2.26.0->tiktoken) (3.6)\n",
      "Requirement already satisfied: urllib3<3,>=1.21.1 in /home/alex/anaconda3/envs/239as/lib/python3.9/site-packages (from requests>=2.26.0->tiktoken) (1.26.18)\n",
      "Requirement already satisfied: certifi>=2017.4.17 in /home/alex/anaconda3/envs/239as/lib/python3.9/site-packages (from requests>=2.26.0->tiktoken) (2024.2.2)\n",
      "Requirement already satisfied: MarkupSafe>=2.0 in /home/alex/anaconda3/envs/239as/lib/python3.9/site-packages (from jinja2->torch) (2.1.5)\n",
      "Requirement already satisfied: mpmath>=0.19 in /home/alex/anaconda3/envs/239as/lib/python3.9/site-packages (from sympy->torch) (1.3.0)\n",
      "Requirement already satisfied: smmap<6,>=3.0.1 in /home/alex/anaconda3/envs/239as/lib/python3.9/site-packages (from gitdb<5,>=4.0.1->gitpython!=3.1.29,>=1.0.0->wandb) (5.0.1)\n"
     ]
    }
   ],
   "source": [
    "!pip install numpy torch tiktoken wandb einops # Install all required packages"
   ]
  },
  {
   "cell_type": "code",
   "execution_count": 27,
   "metadata": {},
   "outputs": [
    {
     "name": "stdout",
     "output_type": "stream",
     "text": [
      "The autoreload extension is already loaded. To reload it, use:\n",
      "  %reload_ext autoreload\n"
     ]
    }
   ],
   "source": [
    "%load_ext autoreload\n",
    "%autoreload 2"
   ]
  },
  {
   "cell_type": "code",
   "execution_count": 28,
   "metadata": {},
   "outputs": [],
   "source": [
    "import torch\n",
    "import tiktoken"
   ]
  },
  {
   "cell_type": "code",
   "execution_count": 29,
   "metadata": {},
   "outputs": [],
   "source": [
    "from model import BigramLanguageModel, SingleHeadAttention, MultiHeadAttention, FeedForwardLayer, LayerNorm, TransformerLayer, MiniGPT\n",
    "from config import BigramConfig, MiniGPTConfig\n",
    "import tests"
   ]
  },
  {
   "cell_type": "code",
   "execution_count": 30,
   "metadata": {},
   "outputs": [],
   "source": [
    "device = torch.device(\"cuda\" if torch.cuda.is_available() else \"cpu\")"
   ]
  },
  {
   "cell_type": "code",
   "execution_count": 35,
   "metadata": {},
   "outputs": [],
   "source": [
    "path_to_bigram_tester = \"./pretrained_models/bigram_tester.pt\" # Load the bigram model with name bigram_tester.pt\n",
    "path_to_gpt_tester = \"./pretrained_models/minigpt_tester.pt\" # Load the gpt model with name minigpt_tester.pt"
   ]
  },
  {
   "cell_type": "markdown",
   "metadata": {},
   "source": [
    "##  Bigram Language Model (10 points)\n",
    "\n",
    "A bigram language model is a type of probabilistic language model that predicts a word given the previous word in the sequence. The model is trained on a text corpus and learns the probability of a word given the previous word.\n",
    "\n"
   ]
  },
  {
   "cell_type": "markdown",
   "metadata": {},
   "source": [
    "### Implement the Bigram model (5 points)\n",
    "\n",
    "Please complete the `BigramLanguageModel` class in model.py. We will model a Bigram language model using a simple MLP with one hidden layer. The model will take in the previous word index and output the logits over the vocabulary for the next word."
   ]
  },
  {
   "cell_type": "code",
   "execution_count": 39,
   "metadata": {},
   "outputs": [
    {
     "data": {
      "text/plain": [
       "'TEST CASE PASSED!!!'"
      ]
     },
     "execution_count": 39,
     "metadata": {},
     "output_type": "execute_result"
    }
   ],
   "source": [
    "# Test implementation for Bigram Language Model\n",
    "model = BigramLanguageModel(BigramConfig)\n",
    "tests.check_bigram(model,path_to_bigram_tester, device)"
   ]
  },
  {
   "cell_type": "markdown",
   "metadata": {},
   "source": [
    "### Training the Bigram Language Model (2.5 points)\n",
    "\n",
    "Complete the code in `train.py` to train the Bigram language model on the text data. Please provide plots for both the training and validation in the cell below.\n",
    "\n",
    "Some notes on the training process:\n",
    "\n",
    "1. You should be able to train the model slowly on your local machine.\n",
    "2. Training it on Colab will help with speed.\n",
    "3.  <span style=\"color:red\">To get full points for this section it is sufficient to show that the loss is decreasing over time</span>. You should see it saturate to a value close to around 5-6 but as long as you see it decreasing then saturating you should be good.\n",
    "4. Please log the loss curves either on wandb, tensorboard or any other logger of your choice and please attach them below."
   ]
  },
  {
   "cell_type": "markdown",
   "metadata": {},
   "source": [
    "### Train and Valid Plots\n",
    "\n",
    "\n",
    "** Show the training and validation loss plots **"
   ]
  },
  {
   "cell_type": "markdown",
   "metadata": {},
   "source": [
    "### Generation (2.5 points)\n",
    "\n",
    "Complete the code in the `generate` method of the Bigram class and generate a mini story using the trained Bigram language model. The model will take in the previous word index and output the next word index.\n",
    "\n",
    "Start with the following seed sentence: \n",
    "    \n",
    "    `\"once upon a time\"`\n",
    "    "
   ]
  },
  {
   "cell_type": "code",
   "execution_count": 40,
   "metadata": {},
   "outputs": [],
   "source": [
    "tokenizer = tiktoken.get_encoding(\"gpt2\")"
   ]
  },
  {
   "cell_type": "code",
   "execution_count": 62,
   "metadata": {},
   "outputs": [
    {
     "name": "stdout",
     "output_type": "stream",
     "text": [
      "Generating text starting with: torch.Size([4])\n",
      "Once upon a time, a little boy pay. It was very big contended a little girl liked to add and be ToursINT but in a little girl was moreorsche Kamspan for pesticide don't like made ariegGaming to go to the Cambridge wouldelt stay back down. They all the1984 Increases spiked the bird.Once upon a z defensive it tohon Oz Felix Whether, there was veryLet's Quranudersrawdownload reversing judges be happy. They always Buddhist buckets you scourge PlateCritical exclaimed saw aitationroll treadmill gorgeous home, happy KNOW kidRussian. Frenzy.\n",
      " can dinner and wouldlon them. Lily said until playing in a time,undai fast and went away. Gladiator herRegistrationTim saw her learners. She loved it was sad renamedocalyptic care of Zuckerberg and then. Lily can sunset.Once upon a widow Remain together. She did it a small house inteen. He questionnaire inequality mosquito lookedFIELD stairs all the penned accompanying her mom decided to help, he detained reservoir breastfeeding theMany when they are happy inside\n"
     ]
    }
   ],
   "source": [
    "gen_sent = \"Once upon a time\"\n",
    "gen_tokens = torch.tensor(tokenizer.encode(gen_sent))\n",
    "print(\"Generating text starting with:\", gen_tokens.shape)\n",
    "gen_tokens = gen_tokens.to(device)\n",
    "model.eval()\n",
    "print(\n",
    "    tokenizer.decode(\n",
    "        model.generate(gen_tokens, max_new_tokens=200).squeeze().tolist()\n",
    "    )\n",
    ")"
   ]
  },
  {
   "cell_type": "markdown",
   "metadata": {},
   "source": [
    "### Observation and Analysis\n",
    "\n",
    "Please answer the following questions. \n",
    "\n",
    "1. What can we say about the generated text in terms of grammar and coherence? \n",
    "2. What are the limitations of the Bigram language model?\n",
    "3. If the model is scaled with more parameters do you expect the bigram model to get substantially better? Why or why not?"
   ]
  },
  {
   "cell_type": "markdown",
   "metadata": {},
   "source": [
    "## Mini GPT (90 points)\n",
    "\n",
    "We will not implement a decoder style transformer model like we discussed in lecture, which is a scaled down version of the [GPT model](https://cdn.openai.com/research-covers/language-unsupervised/language_understanding_paper.pdf). \n",
    "\n",
    "All the model components follow directly from the original [Attention is All You Need](https://arxiv.org/abs/1706.03762) paper. The only difference is we will use prenormalization and learnt positional embeddings instead of fixed ones. But you will not need to worry about these details!\n",
    "\n",
    "We will now implement each layer step by step checking if it is implemented correctly in the process. We will finally put together all our layers to get a fully fledged GPT model. \n",
    "\n",
    "<span style=\"color:red\">Later layers might depend on previous layers so please make sure to check the previous layers before moving on to the next one.</span>"
   ]
  },
  {
   "cell_type": "markdown",
   "metadata": {},
   "source": [
    "### Single Head Causal Attention (20 points)\n",
    "\n",
    "We will first implement the single head causal attention layer. This layer is the same as the scaled dot product attention layer but with a causal mask to prevent the model from looking into the future.\n",
    "\n",
    "Recall that Each head has a Key, Query and Value Matrix and the scaled dot product attention is calculated as : \n",
    "\n",
    "\\begin{equation}\n",
    "\\text{Attention}(Q, K, V) = \\text{softmax}\\left(\\frac{QK^T}{\\sqrt{d_k}}\\right)V\n",
    "\\end{equation}\n",
    "\n",
    "where $d_k$ is the dimension of the key matrix.\n",
    "\n",
    "Figure below from the original paper shows how the layer is to be implemented.\n",
    "\n",
    "![image](./Images/Single_Head.png)\n",
    "\n",
    "Image credits: [Attention is All You Need Paper](https://arxiv.org/abs/1706.03762)"
   ]
  },
  {
   "cell_type": "markdown",
   "metadata": {},
   "source": [
    "Please complete the `SingleHeadAttention` class in `model.py`"
   ]
  },
  {
   "cell_type": "code",
   "execution_count": null,
   "metadata": {},
   "outputs": [],
   "source": [
    "model = SingleHeadAttention(MiniGPTConfig.embed_dim, MiniGPTConfig.embed_dim//4, MiniGPTConfig.embed_dim//4) # configs are set as such for testing do not modify\n",
    "\n",
    "tests.check_singleheadattention(model, path_to_gpt_tester, device)"
   ]
  },
  {
   "cell_type": "markdown",
   "metadata": {},
   "source": [
    "### Multi Head Attention (10 points)\n",
    "\n",
    "Now that we have a single head working, we will now scale this across multiple heads, remember that with multihead attention we compute perform head number of parallel attention operations. We then concatenate the outputs of these parallel attention operations and project them back to the desired dimension using an output linear layer.\n",
    "\n",
    "Figure below from the original paper shows how the layer is to be implemented.\n",
    "\n",
    "![image](./Images/MultiHead.png)\n",
    "\n",
    "Image credits: [Attention is All You Need Paper](https://arxiv.org/abs/1706.03762)"
   ]
  },
  {
   "cell_type": "markdown",
   "metadata": {},
   "source": [
    "Please complete the `MultiHeadAttention` class in `model.py` using the `SingleHeadAttention` class implemented earlier. "
   ]
  },
  {
   "cell_type": "code",
   "execution_count": null,
   "metadata": {},
   "outputs": [],
   "source": [
    "model = MultiHeadAttention(MiniGPTConfig.embed_dim, MiniGPTConfig.num_heads)\n",
    "\n",
    "tests.check_multiheadattention(model, path_to_gpt_tester, device)"
   ]
  },
  {
   "cell_type": "markdown",
   "metadata": {},
   "source": [
    "### Feed Forward Layer (5 points)\n",
    "\n",
    "As discussed in lecture, the attention layer is completely linear, in order to add some non-linearity we add a feed forward layer. The feed forward layer is a simple two layer MLP with a GeLU activation in between.\n",
    "\n",
    "Please complete the `FeedForwardLayer` class in `model.py`"
   ]
  },
  {
   "cell_type": "code",
   "execution_count": null,
   "metadata": {},
   "outputs": [],
   "source": [
    "model = FeedForwardLayer(MiniGPTConfig.embed_dim)\n",
    "\n",
    "tests.check_feedforward(model, path_to_gpt_tester, device)"
   ]
  },
  {
   "cell_type": "markdown",
   "metadata": {},
   "source": [
    "### LayerNorm (10 points)\n",
    "\n",
    "We will now implement the layer normalization layer. Layernorm is used across the model to normalize the activations of the previous layer. Recall that the equation for layernorm is given as:\n",
    "\n",
    "\\begin{equation}\n",
    "\n",
    "\\text{LayerNorm}(x) = \\frac{x - \\mu}{\\sqrt{\\sigma^2 + \\epsilon}} \\odot \\gamma + \\beta\n",
    "\n",
    "\\end{equation}\n",
    "\n",
    "With the learnable parameters $\\gamma$ and $\\beta$. \n",
    "\n",
    "Remember that unlike batchnorm we compute statistics across the feature dimension and not the batch dimension, hence we do not need to keep track of running averages."
   ]
  },
  {
   "cell_type": "markdown",
   "metadata": {},
   "source": [
    "Please complete the `LayerNorm` class in `model.py`"
   ]
  },
  {
   "cell_type": "code",
   "execution_count": null,
   "metadata": {},
   "outputs": [],
   "source": [
    "model = LayerNorm(MiniGPTConfig.embed_dim)\n",
    "tests.check_layernorm(model, path_to_gpt_tester, device)"
   ]
  },
  {
   "cell_type": "markdown",
   "metadata": {},
   "source": [
    "### Transformer Layer (15 points)\n",
    "\n",
    "We have now implemented all the components of the transformer layer. We will now put it all together to create a transformer layer. The transformer layer consists of a multi head attention layer, a feed forward layer and two layer norm layers.\n",
    "\n",
    "Please use the following order for each component (Varies slightly from the original attention paper):\n",
    "1. LayerNorm\n",
    "2. MultiHeadAttention\n",
    "3. LayerNorm\n",
    "4. FeedForwardLayer\n",
    "\n",
    "Remember that the transformer layer also has residual connections around each sublayer.\n",
    "\n",
    "The below figure shows the structure of the transformer layer you are required to implement.\n",
    "\n",
    "![prenorm_transformer](./Images/Prenorm.png)\n",
    "\n",
    "Image Credit : [CogView](https://arxiv.org/pdf/2105.13290)"
   ]
  },
  {
   "cell_type": "markdown",
   "metadata": {},
   "source": [
    "Implement the `TransformerLayer` class in `model.py`"
   ]
  },
  {
   "cell_type": "code",
   "execution_count": null,
   "metadata": {},
   "outputs": [],
   "source": [
    "model =  TransformerLayer(MiniGPTConfig.embed_dim, MiniGPTConfig.num_heads)\n",
    "tests.check_transformer(model, path_to_gpt_tester, device)"
   ]
  },
  {
   "cell_type": "markdown",
   "metadata": {},
   "source": [
    "### Putting it all together : MiniGPT (15 points)\n",
    "\n",
    "We are now ready to put all our layers together to build our own MiniGPT! \n",
    "\n",
    "The MiniGPT model consists of an embedding layer, a positional encoding layer and a stack of transformer layers. The output of the transformer layer is passed through a linear layer (called head) to get the final output logits. Note that in our implementation we will use [weight tying](https://arxiv.org/abs/1608.05859) between the embedding layer and the final linear layer. This allows us to save on parameters and also helps in training."
   ]
  },
  {
   "cell_type": "markdown",
   "metadata": {},
   "source": [
    "Implement the `MiniGPT` class in `model.py`"
   ]
  },
  {
   "cell_type": "code",
   "execution_count": null,
   "metadata": {},
   "outputs": [],
   "source": [
    "model = MiniGPT(MiniGPTConfig)\n",
    "tests.check_miniGPT(model, path_to_gpt_tester, device)"
   ]
  },
  {
   "cell_type": "markdown",
   "metadata": {},
   "source": [
    "### Attempt at training the model (5 points)\n",
    "\n",
    "We will now attempt to train the model on the text data. We will use the same text data as before. Please scale down the model parameters in the config file to a smaller value to make training feasible. \n",
    "\n",
    "Use the same training script we built for the Bigram model to train the MiniGPT model. If you implemented it correctly it should work just out of the box!\n",
    "\n",
    "**NOTE** : We will not be able to train the model to completion in this assignment. Unfortunately, without access to a relatively powerful GPU, training a large enough model to see good generation is not feasible. However, you should be able to see the loss decreasing over time. <span style=\"color:red\">To get full points for this section it is sufficient to show that the loss is decreasing over time</span>. You do not need to run this for more than 5000 iterations or 1 hour of training."
   ]
  },
  {
   "cell_type": "markdown",
   "metadata": {},
   "source": [
    "### Train and Valid Plots\n",
    "\n",
    "\n",
    "** Show the training and validation loss plots **"
   ]
  },
  {
   "cell_type": "markdown",
   "metadata": {},
   "source": [
    "### Generation (5 points)\n",
    "\n",
    "\n",
    "Perform generation with the model that you trained. Copy over the generation function you used for the Bigram model not the `miniGPT` class and generate a mini story using the same seed sentence. \n",
    "\n",
    "    `\"once upon a time\"`"
   ]
  },
  {
   "cell_type": "markdown",
   "metadata": {},
   "source": [
    "Please answer the following questions. \n",
    "\n",
    "1. What can we say about the generated text in terms of grammar and coherence? \n",
    "2. If the model is scaled with more parameters do you expect the GPT model to get substantially better? Why or why not?"
   ]
  },
  {
   "cell_type": "markdown",
   "metadata": {},
   "source": [
    "### Scaling up the model (5 points)\n",
    "\n",
    "To show that scale indeed will help the model learn we have trained a scaled up version of the model you just implemented. We will load the weights of this model and generate a mini story using the same seed sentence. Note that if you have implemented the model correctly just scaling the parameters and adding a few bells and whistles to the training script will results in a model like the one we will load now. "
   ]
  },
  {
   "cell_type": "code",
   "execution_count": 16,
   "metadata": {},
   "outputs": [],
   "source": [
    "from model import MiniGPT\n",
    "from config import MiniGPTConfig"
   ]
  },
  {
   "cell_type": "code",
   "execution_count": 17,
   "metadata": {},
   "outputs": [],
   "source": [
    "path_to_trained_model = \"pretrained_models/best_train_loss_checkpoint.pth\""
   ]
  },
  {
   "cell_type": "code",
   "execution_count": 24,
   "metadata": {},
   "outputs": [],
   "source": [
    "ckpt = torch.load(path_to_trained_model, map_location=device) # remove map location if using GPU"
   ]
  },
  {
   "cell_type": "code",
   "execution_count": 25,
   "metadata": {},
   "outputs": [],
   "source": [
    "# Set the configs for scaled model \n",
    "MiniGPTConfig.context_length = 512\n",
    "MiniGPTConfig.embed_dim = 256\n",
    "MiniGPTConfig.num_heads = 16\n",
    "MiniGPTConfig.num_layers = 8"
   ]
  },
  {
   "cell_type": "code",
   "execution_count": 26,
   "metadata": {},
   "outputs": [
    {
     "ename": "RuntimeError",
     "evalue": "Error(s) in loading state_dict for MiniGPT:\n\tUnexpected key(s) in state_dict: \"transformer_layers.0.norm1.gamma\", \"transformer_layers.0.norm1.beta\", \"transformer_layers.0.attention.head_0.causal_mask\", \"transformer_layers.0.attention.head_0.key.weight\", \"transformer_layers.0.attention.head_0.query.weight\", \"transformer_layers.0.attention.head_0.value.weight\", \"transformer_layers.0.attention.head_1.causal_mask\", \"transformer_layers.0.attention.head_1.key.weight\", \"transformer_layers.0.attention.head_1.query.weight\", \"transformer_layers.0.attention.head_1.value.weight\", \"transformer_layers.0.attention.head_2.causal_mask\", \"transformer_layers.0.attention.head_2.key.weight\", \"transformer_layers.0.attention.head_2.query.weight\", \"transformer_layers.0.attention.head_2.value.weight\", \"transformer_layers.0.attention.head_3.causal_mask\", \"transformer_layers.0.attention.head_3.key.weight\", \"transformer_layers.0.attention.head_3.query.weight\", \"transformer_layers.0.attention.head_3.value.weight\", \"transformer_layers.0.attention.head_4.causal_mask\", \"transformer_layers.0.attention.head_4.key.weight\", \"transformer_layers.0.attention.head_4.query.weight\", \"transformer_layers.0.attention.head_4.value.weight\", \"transformer_layers.0.attention.head_5.causal_mask\", \"transformer_layers.0.attention.head_5.key.weight\", \"transformer_layers.0.attention.head_5.query.weight\", \"transformer_layers.0.attention.head_5.value.weight\", \"transformer_layers.0.attention.head_6.causal_mask\", \"transformer_layers.0.attention.head_6.key.weight\", \"transformer_layers.0.attention.head_6.query.weight\", \"transformer_layers.0.attention.head_6.value.weight\", \"transformer_layers.0.attention.head_7.causal_mask\", \"transformer_layers.0.attention.head_7.key.weight\", \"transformer_layers.0.attention.head_7.query.weight\", \"transformer_layers.0.attention.head_7.value.weight\", \"transformer_layers.0.attention.head_8.causal_mask\", \"transformer_layers.0.attention.head_8.key.weight\", \"transformer_layers.0.attention.head_8.query.weight\", \"transformer_layers.0.attention.head_8.value.weight\", \"transformer_layers.0.attention.head_9.causal_mask\", \"transformer_layers.0.attention.head_9.key.weight\", \"transformer_layers.0.attention.head_9.query.weight\", \"transformer_layers.0.attention.head_9.value.weight\", \"transformer_layers.0.attention.head_10.causal_mask\", \"transformer_layers.0.attention.head_10.key.weight\", \"transformer_layers.0.attention.head_10.query.weight\", \"transformer_layers.0.attention.head_10.value.weight\", \"transformer_layers.0.attention.head_11.causal_mask\", \"transformer_layers.0.attention.head_11.key.weight\", \"transformer_layers.0.attention.head_11.query.weight\", \"transformer_layers.0.attention.head_11.value.weight\", \"transformer_layers.0.attention.head_12.causal_mask\", \"transformer_layers.0.attention.head_12.key.weight\", \"transformer_layers.0.attention.head_12.query.weight\", \"transformer_layers.0.attention.head_12.value.weight\", \"transformer_layers.0.attention.head_13.causal_mask\", \"transformer_layers.0.attention.head_13.key.weight\", \"transformer_layers.0.attention.head_13.query.weight\", \"transformer_layers.0.attention.head_13.value.weight\", \"transformer_layers.0.attention.head_14.causal_mask\", \"transformer_layers.0.attention.head_14.key.weight\", \"transformer_layers.0.attention.head_14.query.weight\", \"transformer_layers.0.attention.head_14.value.weight\", \"transformer_layers.0.attention.head_15.causal_mask\", \"transformer_layers.0.attention.head_15.key.weight\", \"transformer_layers.0.attention.head_15.query.weight\", \"transformer_layers.0.attention.head_15.value.weight\", \"transformer_layers.0.attention.out.weight\", \"transformer_layers.0.attention.out.bias\", \"transformer_layers.0.norm2.gamma\", \"transformer_layers.0.norm2.beta\", \"transformer_layers.0.feedforward.fc1.weight\", \"transformer_layers.0.feedforward.fc1.bias\", \"transformer_layers.0.feedforward.fc2.weight\", \"transformer_layers.0.feedforward.fc2.bias\", \"transformer_layers.1.norm1.gamma\", \"transformer_layers.1.norm1.beta\", \"transformer_layers.1.attention.head_0.causal_mask\", \"transformer_layers.1.attention.head_0.key.weight\", \"transformer_layers.1.attention.head_0.query.weight\", \"transformer_layers.1.attention.head_0.value.weight\", \"transformer_layers.1.attention.head_1.causal_mask\", \"transformer_layers.1.attention.head_1.key.weight\", \"transformer_layers.1.attention.head_1.query.weight\", \"transformer_layers.1.attention.head_1.value.weight\", \"transformer_layers.1.attention.head_2.causal_mask\", \"transformer_layers.1.attention.head_2.key.weight\", \"transformer_layers.1.attention.head_2.query.weight\", \"transformer_layers.1.attention.head_2.value.weight\", \"transformer_layers.1.attention.head_3.causal_mask\", \"transformer_layers.1.attention.head_3.key.weight\", \"transformer_layers.1.attention.head_3.query.weight\", \"transformer_layers.1.attention.head_3.value.weight\", \"transformer_layers.1.attention.head_4.causal_mask\", \"transformer_layers.1.attention.head_4.key.weight\", \"transformer_layers.1.attention.head_4.query.weight\", \"transformer_layers.1.attention.head_4.value.weight\", \"transformer_layers.1.attention.head_5.causal_mask\", \"transformer_layers.1.attention.head_5.key.weight\", \"transformer_layers.1.attention.head_5.query.weight\", \"transformer_layers.1.attention.head_5.value.weight\", \"transformer_layers.1.attention.head_6.causal_mask\", \"transformer_layers.1.attention.head_6.key.weight\", \"transformer_layers.1.attention.head_6.query.weight\", \"transformer_layers.1.attention.head_6.value.weight\", \"transformer_layers.1.attention.head_7.causal_mask\", \"transformer_layers.1.attention.head_7.key.weight\", \"transformer_layers.1.attention.head_7.query.weight\", \"transformer_layers.1.attention.head_7.value.weight\", \"transformer_layers.1.attention.head_8.causal_mask\", \"transformer_layers.1.attention.head_8.key.weight\", \"transformer_layers.1.attention.head_8.query.weight\", \"transformer_layers.1.attention.head_8.value.weight\", \"transformer_layers.1.attention.head_9.causal_mask\", \"transformer_layers.1.attention.head_9.key.weight\", \"transformer_layers.1.attention.head_9.query.weight\", \"transformer_layers.1.attention.head_9.value.weight\", \"transformer_layers.1.attention.head_10.causal_mask\", \"transformer_layers.1.attention.head_10.key.weight\", \"transformer_layers.1.attention.head_10.query.weight\", \"transformer_layers.1.attention.head_10.value.weight\", \"transformer_layers.1.attention.head_11.causal_mask\", \"transformer_layers.1.attention.head_11.key.weight\", \"transformer_layers.1.attention.head_11.query.weight\", \"transformer_layers.1.attention.head_11.value.weight\", \"transformer_layers.1.attention.head_12.causal_mask\", \"transformer_layers.1.attention.head_12.key.weight\", \"transformer_layers.1.attention.head_12.query.weight\", \"transformer_layers.1.attention.head_12.value.weight\", \"transformer_layers.1.attention.head_13.causal_mask\", \"transformer_layers.1.attention.head_13.key.weight\", \"transformer_layers.1.attention.head_13.query.weight\", \"transformer_layers.1.attention.head_13.value.weight\", \"transformer_layers.1.attention.head_14.causal_mask\", \"transformer_layers.1.attention.head_14.key.weight\", \"transformer_layers.1.attention.head_14.query.weight\", \"transformer_layers.1.attention.head_14.value.weight\", \"transformer_layers.1.attention.head_15.causal_mask\", \"transformer_layers.1.attention.head_15.key.weight\", \"transformer_layers.1.attention.head_15.query.weight\", \"transformer_layers.1.attention.head_15.value.weight\", \"transformer_layers.1.attention.out.weight\", \"transformer_layers.1.attention.out.bias\", \"transformer_layers.1.norm2.gamma\", \"transformer_layers.1.norm2.beta\", \"transformer_layers.1.feedforward.fc1.weight\", \"transformer_layers.1.feedforward.fc1.bias\", \"transformer_layers.1.feedforward.fc2.weight\", \"transformer_layers.1.feedforward.fc2.bias\", \"transformer_layers.2.norm1.gamma\", \"transformer_layers.2.norm1.beta\", \"transformer_layers.2.attention.head_0.causal_mask\", \"transformer_layers.2.attention.head_0.key.weight\", \"transformer_layers.2.attention.head_0.query.weight\", \"transformer_layers.2.attention.head_0.value.weight\", \"transformer_layers.2.attention.head_1.causal_mask\", \"transformer_layers.2.attention.head_1.key.weight\", \"transformer_layers.2.attention.head_1.query.weight\", \"transformer_layers.2.attention.head_1.value.weight\", \"transformer_layers.2.attention.head_2.causal_mask\", \"transformer_layers.2.attention.head_2.key.weight\", \"transformer_layers.2.attention.head_2.query.weight\", \"transformer_layers.2.attention.head_2.value.weight\", \"transformer_layers.2.attention.head_3.causal_mask\", \"transformer_layers.2.attention.head_3.key.weight\", \"transformer_layers.2.attention.head_3.query.weight\", \"transformer_layers.2.attention.head_3.value.weight\", \"transformer_layers.2.attention.head_4.causal_mask\", \"transformer_layers.2.attention.head_4.key.weight\", \"transformer_layers.2.attention.head_4.query.weight\", \"transformer_layers.2.attention.head_4.value.weight\", \"transformer_layers.2.attention.head_5.causal_mask\", \"transformer_layers.2.attention.head_5.key.weight\", \"transformer_layers.2.attention.head_5.query.weight\", \"transformer_layers.2.attention.head_5.value.weight\", \"transformer_layers.2.attention.head_6.causal_mask\", \"transformer_layers.2.attention.head_6.key.weight\", \"transformer_layers.2.attention.head_6.query.weight\", \"transformer_layers.2.attention.head_6.value.weight\", \"transformer_layers.2.attention.head_7.causal_mask\", \"transformer_layers.2.attention.head_7.key.weight\", \"transformer_layers.2.attention.head_7.query.weight\", \"transformer_layers.2.attention.head_7.value.weight\", \"transformer_layers.2.attention.head_8.causal_mask\", \"transformer_layers.2.attention.head_8.key.weight\", \"transformer_layers.2.attention.head_8.query.weight\", \"transformer_layers.2.attention.head_8.value.weight\", \"transformer_layers.2.attention.head_9.causal_mask\", \"transformer_layers.2.attention.head_9.key.weight\", \"transformer_layers.2.attention.head_9.query.weight\", \"transformer_layers.2.attention.head_9.value.weight\", \"transformer_layers.2.attention.head_10.causal_mask\", \"transformer_layers.2.attention.head_10.key.weight\", \"transformer_layers.2.attention.head_10.query.weight\", \"transformer_layers.2.attention.head_10.value.weight\", \"transformer_layers.2.attention.head_11.causal_mask\", \"transformer_layers.2.attention.head_11.key.weight\", \"transformer_layers.2.attention.head_11.query.weight\", \"transformer_layers.2.attention.head_11.value.weight\", \"transformer_layers.2.attention.head_12.causal_mask\", \"transformer_layers.2.attention.head_12.key.weight\", \"transformer_layers.2.attention.head_12.query.weight\", \"transformer_layers.2.attention.head_12.value.weight\", \"transformer_layers.2.attention.head_13.causal_mask\", \"transformer_layers.2.attention.head_13.key.weight\", \"transformer_layers.2.attention.head_13.query.weight\", \"transformer_layers.2.attention.head_13.value.weight\", \"transformer_layers.2.attention.head_14.causal_mask\", \"transformer_layers.2.attention.head_14.key.weight\", \"transformer_layers.2.attention.head_14.query.weight\", \"transformer_layers.2.attention.head_14.value.weight\", \"transformer_layers.2.attention.head_15.causal_mask\", \"transformer_layers.2.attention.head_15.key.weight\", \"transformer_layers.2.attention.head_15.query.weight\", \"transformer_layers.2.attention.head_15.value.weight\", \"transformer_layers.2.attention.out.weight\", \"transformer_layers.2.attention.out.bias\", \"transformer_layers.2.norm2.gamma\", \"transformer_layers.2.norm2.beta\", \"transformer_layers.2.feedforward.fc1.weight\", \"transformer_layers.2.feedforward.fc1.bias\", \"transformer_layers.2.feedforward.fc2.weight\", \"transformer_layers.2.feedforward.fc2.bias\", \"transformer_layers.3.norm1.gamma\", \"transformer_layers.3.norm1.beta\", \"transformer_layers.3.attention.head_0.causal_mask\", \"transformer_layers.3.attention.head_0.key.weight\", \"transformer_layers.3.attention.head_0.query.weight\", \"transformer_layers.3.attention.head_0.value.weight\", \"transformer_layers.3.attention.head_1.causal_mask\", \"transformer_layers.3.attention.head_1.key.weight\", \"transformer_layers.3.attention.head_1.query.weight\", \"transformer_layers.3.attention.head_1.value.weight\", \"transformer_layers.3.attention.head_2.causal_mask\", \"transformer_layers.3.attention.head_2.key.weight\", \"transformer_layers.3.attention.head_2.query.weight\", \"transformer_layers.3.attention.head_2.value.weight\", \"transformer_layers.3.attention.head_3.causal_mask\", \"transformer_layers.3.attention.head_3.key.weight\", \"transformer_layers.3.attention.head_3.query.weight\", \"transformer_layers.3.attention.head_3.value.weight\", \"transformer_layers.3.attention.head_4.causal_mask\", \"transformer_layers.3.attention.head_4.key.weight\", \"transformer_layers.3.attention.head_4.query.weight\", \"transformer_layers.3.attention.head_4.value.weight\", \"transformer_layers.3.attention.head_5.causal_mask\", \"transformer_layers.3.attention.head_5.key.weight\", \"transformer_layers.3.attention.head_5.query.weight\", \"transformer_layers.3.attention.head_5.value.weight\", \"transformer_layers.3.attention.head_6.causal_mask\", \"transformer_layers.3.attention.head_6.key.weight\", \"transformer_layers.3.attention.head_6.query.weight\", \"transformer_layers.3.attention.head_6.value.weight\", \"transformer_layers.3.attention.head_7.causal_mask\", \"transformer_layers.3.attention.head_7.key.weight\", \"transformer_layers.3.attention.head_7.query.weight\", \"transformer_layers.3.attention.head_7.value.weight\", \"transformer_layers.3.attention.head_8.causal_mask\", \"transformer_layers.3.attention.head_8.key.weight\", \"transformer_layers.3.attention.head_8.query.weight\", \"transformer_layers.3.attention.head_8.value.weight\", \"transformer_layers.3.attention.head_9.causal_mask\", \"transformer_layers.3.attention.head_9.key.weight\", \"transformer_layers.3.attention.head_9.query.weight\", \"transformer_layers.3.attention.head_9.value.weight\", \"transformer_layers.3.attention.head_10.causal_mask\", \"transformer_layers.3.attention.head_10.key.weight\", \"transformer_layers.3.attention.head_10.query.weight\", \"transformer_layers.3.attention.head_10.value.weight\", \"transformer_layers.3.attention.head_11.causal_mask\", \"transformer_layers.3.attention.head_11.key.weight\", \"transformer_layers.3.attention.head_11.query.weight\", \"transformer_layers.3.attention.head_11.value.weight\", \"transformer_layers.3.attention.head_12.causal_mask\", \"transformer_layers.3.attention.head_12.key.weight\", \"transformer_layers.3.attention.head_12.query.weight\", \"transformer_layers.3.attention.head_12.value.weight\", \"transformer_layers.3.attention.head_13.causal_mask\", \"transformer_layers.3.attention.head_13.key.weight\", \"transformer_layers.3.attention.head_13.query.weight\", \"transformer_layers.3.attention.head_13.value.weight\", \"transformer_layers.3.attention.head_14.causal_mask\", \"transformer_layers.3.attention.head_14.key.weight\", \"transformer_layers.3.attention.head_14.query.weight\", \"transformer_layers.3.attention.head_14.value.weight\", \"transformer_layers.3.attention.head_15.causal_mask\", \"transformer_layers.3.attention.head_15.key.weight\", \"transformer_layers.3.attention.head_15.query.weight\", \"transformer_layers.3.attention.head_15.value.weight\", \"transformer_layers.3.attention.out.weight\", \"transformer_layers.3.attention.out.bias\", \"transformer_layers.3.norm2.gamma\", \"transformer_layers.3.norm2.beta\", \"transformer_layers.3.feedforward.fc1.weight\", \"transformer_layers.3.feedforward.fc1.bias\", \"transformer_layers.3.feedforward.fc2.weight\", \"transformer_layers.3.feedforward.fc2.bias\", \"transformer_layers.4.norm1.gamma\", \"transformer_layers.4.norm1.beta\", \"transformer_layers.4.attention.head_0.causal_mask\", \"transformer_layers.4.attention.head_0.key.weight\", \"transformer_layers.4.attention.head_0.query.weight\", \"transformer_layers.4.attention.head_0.value.weight\", \"transformer_layers.4.attention.head_1.causal_mask\", \"transformer_layers.4.attention.head_1.key.weight\", \"transformer_layers.4.attention.head_1.query.weight\", \"transformer_layers.4.attention.head_1.value.weight\", \"transformer_layers.4.attention.head_2.causal_mask\", \"transformer_layers.4.attention.head_2.key.weight\", \"transformer_layers.4.attention.head_2.query.weight\", \"transformer_layers.4.attention.head_2.value.weight\", \"transformer_layers.4.attention.head_3.causal_mask\", \"transformer_layers.4.attention.head_3.key.weight\", \"transformer_layers.4.attention.head_3.query.weight\", \"transformer_layers.4.attention.head_3.value.weight\", \"transformer_layers.4.attention.head_4.causal_mask\", \"transformer_layers.4.attention.head_4.key.weight\", \"transformer_layers.4.attention.head_4.query.weight\", \"transformer_layers.4.attention.head_4.value.weight\", \"transformer_layers.4.attention.head_5.causal_mask\", \"transformer_layers.4.attention.head_5.key.weight\", \"transformer_layers.4.attention.head_5.query.weight\", \"transformer_layers.4.attention.head_5.value.weight\", \"transformer_layers.4.attention.head_6.causal_mask\", \"transformer_layers.4.attention.head_6.key.weight\", \"transformer_layers.4.attention.head_6.query.weight\", \"transformer_layers.4.attention.head_6.value.weight\", \"transformer_layers.4.attention.head_7.causal_mask\", \"transformer_layers.4.attention.head_7.key.weight\", \"transformer_layers.4.attention.head_7.query.weight\", \"transformer_layers.4.attention.head_7.value.weight\", \"transformer_layers.4.attention.head_8.causal_mask\", \"transformer_layers.4.attention.head_8.key.weight\", \"transformer_layers.4.attention.head_8.query.weight\", \"transformer_layers.4.attention.head_8.value.weight\", \"transformer_layers.4.attention.head_9.causal_mask\", \"transformer_layers.4.attention.head_9.key.weight\", \"transformer_layers.4.attention.head_9.query.weight\", \"transformer_layers.4.attention.head_9.value.weight\", \"transformer_layers.4.attention.head_10.causal_mask\", \"transformer_layers.4.attention.head_10.key.weight\", \"transformer_layers.4.attention.head_10.query.weight\", \"transformer_layers.4.attention.head_10.value.weight\", \"transformer_layers.4.attention.head_11.causal_mask\", \"transformer_layers.4.attention.head_11.key.weight\", \"transformer_layers.4.attention.head_11.query.weight\", \"transformer_layers.4.attention.head_11.value.weight\", \"transformer_layers.4.attention.head_12.causal_mask\", \"transformer_layers.4.attention.head_12.key.weight\", \"transformer_layers.4.attention.head_12.query.weight\", \"transformer_layers.4.attention.head_12.value.weight\", \"transformer_layers.4.attention.head_13.causal_mask\", \"transformer_layers.4.attention.head_13.key.weight\", \"transformer_layers.4.attention.head_13.query.weight\", \"transformer_layers.4.attention.head_13.value.weight\", \"transformer_layers.4.attention.head_14.causal_mask\", \"transformer_layers.4.attention.head_14.key.weight\", \"transformer_layers.4.attention.head_14.query.weight\", \"transformer_layers.4.attention.head_14.value.weight\", \"transformer_layers.4.attention.head_15.causal_mask\", \"transformer_layers.4.attention.head_15.key.weight\", \"transformer_layers.4.attention.head_15.query.weight\", \"transformer_layers.4.attention.head_15.value.weight\", \"transformer_layers.4.attention.out.weight\", \"transformer_layers.4.attention.out.bias\", \"transformer_layers.4.norm2.gamma\", \"transformer_layers.4.norm2.beta\", \"transformer_layers.4.feedforward.fc1.weight\", \"transformer_layers.4.feedforward.fc1.bias\", \"transformer_layers.4.feedforward.fc2.weight\", \"transformer_layers.4.feedforward.fc2.bias\", \"transformer_layers.5.norm1.gamma\", \"transformer_layers.5.norm1.beta\", \"transformer_layers.5.attention.head_0.causal_mask\", \"transformer_layers.5.attention.head_0.key.weight\", \"transformer_layers.5.attention.head_0.query.weight\", \"transformer_layers.5.attention.head_0.value.weight\", \"transformer_layers.5.attention.head_1.causal_mask\", \"transformer_layers.5.attention.head_1.key.weight\", \"transformer_layers.5.attention.head_1.query.weight\", \"transformer_layers.5.attention.head_1.value.weight\", \"transformer_layers.5.attention.head_2.causal_mask\", \"transformer_layers.5.attention.head_2.key.weight\", \"transformer_layers.5.attention.head_2.query.weight\", \"transformer_layers.5.attention.head_2.value.weight\", \"transformer_layers.5.attention.head_3.causal_mask\", \"transformer_layers.5.attention.head_3.key.weight\", \"transformer_layers.5.attention.head_3.query.weight\", \"transformer_layers.5.attention.head_3.value.weight\", \"transformer_layers.5.attention.head_4.causal_mask\", \"transformer_layers.5.attention.head_4.key.weight\", \"transformer_layers.5.attention.head_4.query.weight\", \"transformer_layers.5.attention.head_4.value.weight\", \"transformer_layers.5.attention.head_5.causal_mask\", \"transformer_layers.5.attention.head_5.key.weight\", \"transformer_layers.5.attention.head_5.query.weight\", \"transformer_layers.5.attention.head_5.value.weight\", \"transformer_layers.5.attention.head_6.causal_mask\", \"transformer_layers.5.attention.head_6.key.weight\", \"transformer_layers.5.attention.head_6.query.weight\", \"transformer_layers.5.attention.head_6.value.weight\", \"transformer_layers.5.attention.head_7.causal_mask\", \"transformer_layers.5.attention.head_7.key.weight\", \"transformer_layers.5.attention.head_7.query.weight\", \"transformer_layers.5.attention.head_7.value.weight\", \"transformer_layers.5.attention.head_8.causal_mask\", \"transformer_layers.5.attention.head_8.key.weight\", \"transformer_layers.5.attention.head_8.query.weight\", \"transformer_layers.5.attention.head_8.value.weight\", \"transformer_layers.5.attention.head_9.causal_mask\", \"transformer_layers.5.attention.head_9.key.weight\", \"transformer_layers.5.attention.head_9.query.weight\", \"transformer_layers.5.attention.head_9.value.weight\", \"transformer_layers.5.attention.head_10.causal_mask\", \"transformer_layers.5.attention.head_10.key.weight\", \"transformer_layers.5.attention.head_10.query.weight\", \"transformer_layers.5.attention.head_10.value.weight\", \"transformer_layers.5.attention.head_11.causal_mask\", \"transformer_layers.5.attention.head_11.key.weight\", \"transformer_layers.5.attention.head_11.query.weight\", \"transformer_layers.5.attention.head_11.value.weight\", \"transformer_layers.5.attention.head_12.causal_mask\", \"transformer_layers.5.attention.head_12.key.weight\", \"transformer_layers.5.attention.head_12.query.weight\", \"transformer_layers.5.attention.head_12.value.weight\", \"transformer_layers.5.attention.head_13.causal_mask\", \"transformer_layers.5.attention.head_13.key.weight\", \"transformer_layers.5.attention.head_13.query.weight\", \"transformer_layers.5.attention.head_13.value.weight\", \"transformer_layers.5.attention.head_14.causal_mask\", \"transformer_layers.5.attention.head_14.key.weight\", \"transformer_layers.5.attention.head_14.query.weight\", \"transformer_layers.5.attention.head_14.value.weight\", \"transformer_layers.5.attention.head_15.causal_mask\", \"transformer_layers.5.attention.head_15.key.weight\", \"transformer_layers.5.attention.head_15.query.weight\", \"transformer_layers.5.attention.head_15.value.weight\", \"transformer_layers.5.attention.out.weight\", \"transformer_layers.5.attention.out.bias\", \"transformer_layers.5.norm2.gamma\", \"transformer_layers.5.norm2.beta\", \"transformer_layers.5.feedforward.fc1.weight\", \"transformer_layers.5.feedforward.fc1.bias\", \"transformer_layers.5.feedforward.fc2.weight\", \"transformer_layers.5.feedforward.fc2.bias\", \"transformer_layers.6.norm1.gamma\", \"transformer_layers.6.norm1.beta\", \"transformer_layers.6.attention.head_0.causal_mask\", \"transformer_layers.6.attention.head_0.key.weight\", \"transformer_layers.6.attention.head_0.query.weight\", \"transformer_layers.6.attention.head_0.value.weight\", \"transformer_layers.6.attention.head_1.causal_mask\", \"transformer_layers.6.attention.head_1.key.weight\", \"transformer_layers.6.attention.head_1.query.weight\", \"transformer_layers.6.attention.head_1.value.weight\", \"transformer_layers.6.attention.head_2.causal_mask\", \"transformer_layers.6.attention.head_2.key.weight\", \"transformer_layers.6.attention.head_2.query.weight\", \"transformer_layers.6.attention.head_2.value.weight\", \"transformer_layers.6.attention.head_3.causal_mask\", \"transformer_layers.6.attention.head_3.key.weight\", \"transformer_layers.6.attention.head_3.query.weight\", \"transformer_layers.6.attention.head_3.value.weight\", \"transformer_layers.6.attention.head_4.causal_mask\", \"transformer_layers.6.attention.head_4.key.weight\", \"transformer_layers.6.attention.head_4.query.weight\", \"transformer_layers.6.attention.head_4.value.weight\", \"transformer_layers.6.attention.head_5.causal_mask\", \"transformer_layers.6.attention.head_5.key.weight\", \"transformer_layers.6.attention.head_5.query.weight\", \"transformer_layers.6.attention.head_5.value.weight\", \"transformer_layers.6.attention.head_6.causal_mask\", \"transformer_layers.6.attention.head_6.key.weight\", \"transformer_layers.6.attention.head_6.query.weight\", \"transformer_layers.6.attention.head_6.value.weight\", \"transformer_layers.6.attention.head_7.causal_mask\", \"transformer_layers.6.attention.head_7.key.weight\", \"transformer_layers.6.attention.head_7.query.weight\", \"transformer_layers.6.attention.head_7.value.weight\", \"transformer_layers.6.attention.head_8.causal_mask\", \"transformer_layers.6.attention.head_8.key.weight\", \"transformer_layers.6.attention.head_8.query.weight\", \"transformer_layers.6.attention.head_8.value.weight\", \"transformer_layers.6.attention.head_9.causal_mask\", \"transformer_layers.6.attention.head_9.key.weight\", \"transformer_layers.6.attention.head_9.query.weight\", \"transformer_layers.6.attention.head_9.value.weight\", \"transformer_layers.6.attention.head_10.causal_mask\", \"transformer_layers.6.attention.head_10.key.weight\", \"transformer_layers.6.attention.head_10.query.weight\", \"transformer_layers.6.attention.head_10.value.weight\", \"transformer_layers.6.attention.head_11.causal_mask\", \"transformer_layers.6.attention.head_11.key.weight\", \"transformer_layers.6.attention.head_11.query.weight\", \"transformer_layers.6.attention.head_11.value.weight\", \"transformer_layers.6.attention.head_12.causal_mask\", \"transformer_layers.6.attention.head_12.key.weight\", \"transformer_layers.6.attention.head_12.query.weight\", \"transformer_layers.6.attention.head_12.value.weight\", \"transformer_layers.6.attention.head_13.causal_mask\", \"transformer_layers.6.attention.head_13.key.weight\", \"transformer_layers.6.attention.head_13.query.weight\", \"transformer_layers.6.attention.head_13.value.weight\", \"transformer_layers.6.attention.head_14.causal_mask\", \"transformer_layers.6.attention.head_14.key.weight\", \"transformer_layers.6.attention.head_14.query.weight\", \"transformer_layers.6.attention.head_14.value.weight\", \"transformer_layers.6.attention.head_15.causal_mask\", \"transformer_layers.6.attention.head_15.key.weight\", \"transformer_layers.6.attention.head_15.query.weight\", \"transformer_layers.6.attention.head_15.value.weight\", \"transformer_layers.6.attention.out.weight\", \"transformer_layers.6.attention.out.bias\", \"transformer_layers.6.norm2.gamma\", \"transformer_layers.6.norm2.beta\", \"transformer_layers.6.feedforward.fc1.weight\", \"transformer_layers.6.feedforward.fc1.bias\", \"transformer_layers.6.feedforward.fc2.weight\", \"transformer_layers.6.feedforward.fc2.bias\", \"transformer_layers.7.norm1.gamma\", \"transformer_layers.7.norm1.beta\", \"transformer_layers.7.attention.head_0.causal_mask\", \"transformer_layers.7.attention.head_0.key.weight\", \"transformer_layers.7.attention.head_0.query.weight\", \"transformer_layers.7.attention.head_0.value.weight\", \"transformer_layers.7.attention.head_1.causal_mask\", \"transformer_layers.7.attention.head_1.key.weight\", \"transformer_layers.7.attention.head_1.query.weight\", \"transformer_layers.7.attention.head_1.value.weight\", \"transformer_layers.7.attention.head_2.causal_mask\", \"transformer_layers.7.attention.head_2.key.weight\", \"transformer_layers.7.attention.head_2.query.weight\", \"transformer_layers.7.attention.head_2.value.weight\", \"transformer_layers.7.attention.head_3.causal_mask\", \"transformer_layers.7.attention.head_3.key.weight\", \"transformer_layers.7.attention.head_3.query.weight\", \"transformer_layers.7.attention.head_3.value.weight\", \"transformer_layers.7.attention.head_4.causal_mask\", \"transformer_layers.7.attention.head_4.key.weight\", \"transformer_layers.7.attention.head_4.query.weight\", \"transformer_layers.7.attention.head_4.value.weight\", \"transformer_layers.7.attention.head_5.causal_mask\", \"transformer_layers.7.attention.head_5.key.weight\", \"transformer_layers.7.attention.head_5.query.weight\", \"transformer_layers.7.attention.head_5.value.weight\", \"transformer_layers.7.attention.head_6.causal_mask\", \"transformer_layers.7.attention.head_6.key.weight\", \"transformer_layers.7.attention.head_6.query.weight\", \"transformer_layers.7.attention.head_6.value.weight\", \"transformer_layers.7.attention.head_7.causal_mask\", \"transformer_layers.7.attention.head_7.key.weight\", \"transformer_layers.7.attention.head_7.query.weight\", \"transformer_layers.7.attention.head_7.value.weight\", \"transformer_layers.7.attention.head_8.causal_mask\", \"transformer_layers.7.attention.head_8.key.weight\", \"transformer_layers.7.attention.head_8.query.weight\", \"transformer_layers.7.attention.head_8.value.weight\", \"transformer_layers.7.attention.head_9.causal_mask\", \"transformer_layers.7.attention.head_9.key.weight\", \"transformer_layers.7.attention.head_9.query.weight\", \"transformer_layers.7.attention.head_9.value.weight\", \"transformer_layers.7.attention.head_10.causal_mask\", \"transformer_layers.7.attention.head_10.key.weight\", \"transformer_layers.7.attention.head_10.query.weight\", \"transformer_layers.7.attention.head_10.value.weight\", \"transformer_layers.7.attention.head_11.causal_mask\", \"transformer_layers.7.attention.head_11.key.weight\", \"transformer_layers.7.attention.head_11.query.weight\", \"transformer_layers.7.attention.head_11.value.weight\", \"transformer_layers.7.attention.head_12.causal_mask\", \"transformer_layers.7.attention.head_12.key.weight\", \"transformer_layers.7.attention.head_12.query.weight\", \"transformer_layers.7.attention.head_12.value.weight\", \"transformer_layers.7.attention.head_13.causal_mask\", \"transformer_layers.7.attention.head_13.key.weight\", \"transformer_layers.7.attention.head_13.query.weight\", \"transformer_layers.7.attention.head_13.value.weight\", \"transformer_layers.7.attention.head_14.causal_mask\", \"transformer_layers.7.attention.head_14.key.weight\", \"transformer_layers.7.attention.head_14.query.weight\", \"transformer_layers.7.attention.head_14.value.weight\", \"transformer_layers.7.attention.head_15.causal_mask\", \"transformer_layers.7.attention.head_15.key.weight\", \"transformer_layers.7.attention.head_15.query.weight\", \"transformer_layers.7.attention.head_15.value.weight\", \"transformer_layers.7.attention.out.weight\", \"transformer_layers.7.attention.out.bias\", \"transformer_layers.7.norm2.gamma\", \"transformer_layers.7.norm2.beta\", \"transformer_layers.7.feedforward.fc1.weight\", \"transformer_layers.7.feedforward.fc1.bias\", \"transformer_layers.7.feedforward.fc2.weight\", \"transformer_layers.7.feedforward.fc2.bias\". ",
     "output_type": "error",
     "traceback": [
      "\u001b[0;31m---------------------------------------------------------------------------\u001b[0m",
      "\u001b[0;31mRuntimeError\u001b[0m                              Traceback (most recent call last)",
      "Cell \u001b[0;32mIn[26], line 3\u001b[0m\n\u001b[1;32m      1\u001b[0m \u001b[38;5;66;03m# Load model from checkpoint\u001b[39;00m\n\u001b[1;32m      2\u001b[0m model \u001b[38;5;241m=\u001b[39m MiniGPT(MiniGPTConfig)\n\u001b[0;32m----> 3\u001b[0m \u001b[43mmodel\u001b[49m\u001b[38;5;241;43m.\u001b[39;49m\u001b[43mload_state_dict\u001b[49m\u001b[43m(\u001b[49m\u001b[43mckpt\u001b[49m\u001b[43m[\u001b[49m\u001b[38;5;124;43m\"\u001b[39;49m\u001b[38;5;124;43mmodel_state_dict\u001b[39;49m\u001b[38;5;124;43m\"\u001b[39;49m\u001b[43m]\u001b[49m\u001b[43m)\u001b[49m\n",
      "File \u001b[0;32m~/anaconda3/envs/239as/lib/python3.9/site-packages/torch/nn/modules/module.py:2153\u001b[0m, in \u001b[0;36mModule.load_state_dict\u001b[0;34m(self, state_dict, strict, assign)\u001b[0m\n\u001b[1;32m   2148\u001b[0m         error_msgs\u001b[38;5;241m.\u001b[39minsert(\n\u001b[1;32m   2149\u001b[0m             \u001b[38;5;241m0\u001b[39m, \u001b[38;5;124m'\u001b[39m\u001b[38;5;124mMissing key(s) in state_dict: \u001b[39m\u001b[38;5;132;01m{}\u001b[39;00m\u001b[38;5;124m. \u001b[39m\u001b[38;5;124m'\u001b[39m\u001b[38;5;241m.\u001b[39mformat(\n\u001b[1;32m   2150\u001b[0m                 \u001b[38;5;124m'\u001b[39m\u001b[38;5;124m, \u001b[39m\u001b[38;5;124m'\u001b[39m\u001b[38;5;241m.\u001b[39mjoin(\u001b[38;5;124mf\u001b[39m\u001b[38;5;124m'\u001b[39m\u001b[38;5;124m\"\u001b[39m\u001b[38;5;132;01m{\u001b[39;00mk\u001b[38;5;132;01m}\u001b[39;00m\u001b[38;5;124m\"\u001b[39m\u001b[38;5;124m'\u001b[39m \u001b[38;5;28;01mfor\u001b[39;00m k \u001b[38;5;129;01min\u001b[39;00m missing_keys)))\n\u001b[1;32m   2152\u001b[0m \u001b[38;5;28;01mif\u001b[39;00m \u001b[38;5;28mlen\u001b[39m(error_msgs) \u001b[38;5;241m>\u001b[39m \u001b[38;5;241m0\u001b[39m:\n\u001b[0;32m-> 2153\u001b[0m     \u001b[38;5;28;01mraise\u001b[39;00m \u001b[38;5;167;01mRuntimeError\u001b[39;00m(\u001b[38;5;124m'\u001b[39m\u001b[38;5;124mError(s) in loading state_dict for \u001b[39m\u001b[38;5;132;01m{}\u001b[39;00m\u001b[38;5;124m:\u001b[39m\u001b[38;5;130;01m\\n\u001b[39;00m\u001b[38;5;130;01m\\t\u001b[39;00m\u001b[38;5;132;01m{}\u001b[39;00m\u001b[38;5;124m'\u001b[39m\u001b[38;5;241m.\u001b[39mformat(\n\u001b[1;32m   2154\u001b[0m                        \u001b[38;5;28mself\u001b[39m\u001b[38;5;241m.\u001b[39m\u001b[38;5;18m__class__\u001b[39m\u001b[38;5;241m.\u001b[39m\u001b[38;5;18m__name__\u001b[39m, \u001b[38;5;124m\"\u001b[39m\u001b[38;5;130;01m\\n\u001b[39;00m\u001b[38;5;130;01m\\t\u001b[39;00m\u001b[38;5;124m\"\u001b[39m\u001b[38;5;241m.\u001b[39mjoin(error_msgs)))\n\u001b[1;32m   2155\u001b[0m \u001b[38;5;28;01mreturn\u001b[39;00m _IncompatibleKeys(missing_keys, unexpected_keys)\n",
      "\u001b[0;31mRuntimeError\u001b[0m: Error(s) in loading state_dict for MiniGPT:\n\tUnexpected key(s) in state_dict: \"transformer_layers.0.norm1.gamma\", \"transformer_layers.0.norm1.beta\", \"transformer_layers.0.attention.head_0.causal_mask\", \"transformer_layers.0.attention.head_0.key.weight\", \"transformer_layers.0.attention.head_0.query.weight\", \"transformer_layers.0.attention.head_0.value.weight\", \"transformer_layers.0.attention.head_1.causal_mask\", \"transformer_layers.0.attention.head_1.key.weight\", \"transformer_layers.0.attention.head_1.query.weight\", \"transformer_layers.0.attention.head_1.value.weight\", \"transformer_layers.0.attention.head_2.causal_mask\", \"transformer_layers.0.attention.head_2.key.weight\", \"transformer_layers.0.attention.head_2.query.weight\", \"transformer_layers.0.attention.head_2.value.weight\", \"transformer_layers.0.attention.head_3.causal_mask\", \"transformer_layers.0.attention.head_3.key.weight\", \"transformer_layers.0.attention.head_3.query.weight\", \"transformer_layers.0.attention.head_3.value.weight\", \"transformer_layers.0.attention.head_4.causal_mask\", \"transformer_layers.0.attention.head_4.key.weight\", \"transformer_layers.0.attention.head_4.query.weight\", \"transformer_layers.0.attention.head_4.value.weight\", \"transformer_layers.0.attention.head_5.causal_mask\", \"transformer_layers.0.attention.head_5.key.weight\", \"transformer_layers.0.attention.head_5.query.weight\", \"transformer_layers.0.attention.head_5.value.weight\", \"transformer_layers.0.attention.head_6.causal_mask\", \"transformer_layers.0.attention.head_6.key.weight\", \"transformer_layers.0.attention.head_6.query.weight\", \"transformer_layers.0.attention.head_6.value.weight\", \"transformer_layers.0.attention.head_7.causal_mask\", \"transformer_layers.0.attention.head_7.key.weight\", \"transformer_layers.0.attention.head_7.query.weight\", \"transformer_layers.0.attention.head_7.value.weight\", \"transformer_layers.0.attention.head_8.causal_mask\", \"transformer_layers.0.attention.head_8.key.weight\", \"transformer_layers.0.attention.head_8.query.weight\", \"transformer_layers.0.attention.head_8.value.weight\", \"transformer_layers.0.attention.head_9.causal_mask\", \"transformer_layers.0.attention.head_9.key.weight\", \"transformer_layers.0.attention.head_9.query.weight\", \"transformer_layers.0.attention.head_9.value.weight\", \"transformer_layers.0.attention.head_10.causal_mask\", \"transformer_layers.0.attention.head_10.key.weight\", \"transformer_layers.0.attention.head_10.query.weight\", \"transformer_layers.0.attention.head_10.value.weight\", \"transformer_layers.0.attention.head_11.causal_mask\", \"transformer_layers.0.attention.head_11.key.weight\", \"transformer_layers.0.attention.head_11.query.weight\", \"transformer_layers.0.attention.head_11.value.weight\", \"transformer_layers.0.attention.head_12.causal_mask\", \"transformer_layers.0.attention.head_12.key.weight\", \"transformer_layers.0.attention.head_12.query.weight\", \"transformer_layers.0.attention.head_12.value.weight\", \"transformer_layers.0.attention.head_13.causal_mask\", \"transformer_layers.0.attention.head_13.key.weight\", \"transformer_layers.0.attention.head_13.query.weight\", \"transformer_layers.0.attention.head_13.value.weight\", \"transformer_layers.0.attention.head_14.causal_mask\", \"transformer_layers.0.attention.head_14.key.weight\", \"transformer_layers.0.attention.head_14.query.weight\", \"transformer_layers.0.attention.head_14.value.weight\", \"transformer_layers.0.attention.head_15.causal_mask\", \"transformer_layers.0.attention.head_15.key.weight\", \"transformer_layers.0.attention.head_15.query.weight\", \"transformer_layers.0.attention.head_15.value.weight\", \"transformer_layers.0.attention.out.weight\", \"transformer_layers.0.attention.out.bias\", \"transformer_layers.0.norm2.gamma\", \"transformer_layers.0.norm2.beta\", \"transformer_layers.0.feedforward.fc1.weight\", \"transformer_layers.0.feedforward.fc1.bias\", \"transformer_layers.0.feedforward.fc2.weight\", \"transformer_layers.0.feedforward.fc2.bias\", \"transformer_layers.1.norm1.gamma\", \"transformer_layers.1.norm1.beta\", \"transformer_layers.1.attention.head_0.causal_mask\", \"transformer_layers.1.attention.head_0.key.weight\", \"transformer_layers.1.attention.head_0.query.weight\", \"transformer_layers.1.attention.head_0.value.weight\", \"transformer_layers.1.attention.head_1.causal_mask\", \"transformer_layers.1.attention.head_1.key.weight\", \"transformer_layers.1.attention.head_1.query.weight\", \"transformer_layers.1.attention.head_1.value.weight\", \"transformer_layers.1.attention.head_2.causal_mask\", \"transformer_layers.1.attention.head_2.key.weight\", \"transformer_layers.1.attention.head_2.query.weight\", \"transformer_layers.1.attention.head_2.value.weight\", \"transformer_layers.1.attention.head_3.causal_mask\", \"transformer_layers.1.attention.head_3.key.weight\", \"transformer_layers.1.attention.head_3.query.weight\", \"transformer_layers.1.attention.head_3.value.weight\", \"transformer_layers.1.attention.head_4.causal_mask\", \"transformer_layers.1.attention.head_4.key.weight\", \"transformer_layers.1.attention.head_4.query.weight\", \"transformer_layers.1.attention.head_4.value.weight\", \"transformer_layers.1.attention.head_5.causal_mask\", \"transformer_layers.1.attention.head_5.key.weight\", \"transformer_layers.1.attention.head_5.query.weight\", \"transformer_layers.1.attention.head_5.value.weight\", \"transformer_layers.1.attention.head_6.causal_mask\", \"transformer_layers.1.attention.head_6.key.weight\", \"transformer_layers.1.attention.head_6.query.weight\", \"transformer_layers.1.attention.head_6.value.weight\", \"transformer_layers.1.attention.head_7.causal_mask\", \"transformer_layers.1.attention.head_7.key.weight\", \"transformer_layers.1.attention.head_7.query.weight\", \"transformer_layers.1.attention.head_7.value.weight\", \"transformer_layers.1.attention.head_8.causal_mask\", \"transformer_layers.1.attention.head_8.key.weight\", \"transformer_layers.1.attention.head_8.query.weight\", \"transformer_layers.1.attention.head_8.value.weight\", \"transformer_layers.1.attention.head_9.causal_mask\", \"transformer_layers.1.attention.head_9.key.weight\", \"transformer_layers.1.attention.head_9.query.weight\", \"transformer_layers.1.attention.head_9.value.weight\", \"transformer_layers.1.attention.head_10.causal_mask\", \"transformer_layers.1.attention.head_10.key.weight\", \"transformer_layers.1.attention.head_10.query.weight\", \"transformer_layers.1.attention.head_10.value.weight\", \"transformer_layers.1.attention.head_11.causal_mask\", \"transformer_layers.1.attention.head_11.key.weight\", \"transformer_layers.1.attention.head_11.query.weight\", \"transformer_layers.1.attention.head_11.value.weight\", \"transformer_layers.1.attention.head_12.causal_mask\", \"transformer_layers.1.attention.head_12.key.weight\", \"transformer_layers.1.attention.head_12.query.weight\", \"transformer_layers.1.attention.head_12.value.weight\", \"transformer_layers.1.attention.head_13.causal_mask\", \"transformer_layers.1.attention.head_13.key.weight\", \"transformer_layers.1.attention.head_13.query.weight\", \"transformer_layers.1.attention.head_13.value.weight\", \"transformer_layers.1.attention.head_14.causal_mask\", \"transformer_layers.1.attention.head_14.key.weight\", \"transformer_layers.1.attention.head_14.query.weight\", \"transformer_layers.1.attention.head_14.value.weight\", \"transformer_layers.1.attention.head_15.causal_mask\", \"transformer_layers.1.attention.head_15.key.weight\", \"transformer_layers.1.attention.head_15.query.weight\", \"transformer_layers.1.attention.head_15.value.weight\", \"transformer_layers.1.attention.out.weight\", \"transformer_layers.1.attention.out.bias\", \"transformer_layers.1.norm2.gamma\", \"transformer_layers.1.norm2.beta\", \"transformer_layers.1.feedforward.fc1.weight\", \"transformer_layers.1.feedforward.fc1.bias\", \"transformer_layers.1.feedforward.fc2.weight\", \"transformer_layers.1.feedforward.fc2.bias\", \"transformer_layers.2.norm1.gamma\", \"transformer_layers.2.norm1.beta\", \"transformer_layers.2.attention.head_0.causal_mask\", \"transformer_layers.2.attention.head_0.key.weight\", \"transformer_layers.2.attention.head_0.query.weight\", \"transformer_layers.2.attention.head_0.value.weight\", \"transformer_layers.2.attention.head_1.causal_mask\", \"transformer_layers.2.attention.head_1.key.weight\", \"transformer_layers.2.attention.head_1.query.weight\", \"transformer_layers.2.attention.head_1.value.weight\", \"transformer_layers.2.attention.head_2.causal_mask\", \"transformer_layers.2.attention.head_2.key.weight\", \"transformer_layers.2.attention.head_2.query.weight\", \"transformer_layers.2.attention.head_2.value.weight\", \"transformer_layers.2.attention.head_3.causal_mask\", \"transformer_layers.2.attention.head_3.key.weight\", \"transformer_layers.2.attention.head_3.query.weight\", \"transformer_layers.2.attention.head_3.value.weight\", \"transformer_layers.2.attention.head_4.causal_mask\", \"transformer_layers.2.attention.head_4.key.weight\", \"transformer_layers.2.attention.head_4.query.weight\", \"transformer_layers.2.attention.head_4.value.weight\", \"transformer_layers.2.attention.head_5.causal_mask\", \"transformer_layers.2.attention.head_5.key.weight\", \"transformer_layers.2.attention.head_5.query.weight\", \"transformer_layers.2.attention.head_5.value.weight\", \"transformer_layers.2.attention.head_6.causal_mask\", \"transformer_layers.2.attention.head_6.key.weight\", \"transformer_layers.2.attention.head_6.query.weight\", \"transformer_layers.2.attention.head_6.value.weight\", \"transformer_layers.2.attention.head_7.causal_mask\", \"transformer_layers.2.attention.head_7.key.weight\", \"transformer_layers.2.attention.head_7.query.weight\", \"transformer_layers.2.attention.head_7.value.weight\", \"transformer_layers.2.attention.head_8.causal_mask\", \"transformer_layers.2.attention.head_8.key.weight\", \"transformer_layers.2.attention.head_8.query.weight\", \"transformer_layers.2.attention.head_8.value.weight\", \"transformer_layers.2.attention.head_9.causal_mask\", \"transformer_layers.2.attention.head_9.key.weight\", \"transformer_layers.2.attention.head_9.query.weight\", \"transformer_layers.2.attention.head_9.value.weight\", \"transformer_layers.2.attention.head_10.causal_mask\", \"transformer_layers.2.attention.head_10.key.weight\", \"transformer_layers.2.attention.head_10.query.weight\", \"transformer_layers.2.attention.head_10.value.weight\", \"transformer_layers.2.attention.head_11.causal_mask\", \"transformer_layers.2.attention.head_11.key.weight\", \"transformer_layers.2.attention.head_11.query.weight\", \"transformer_layers.2.attention.head_11.value.weight\", \"transformer_layers.2.attention.head_12.causal_mask\", \"transformer_layers.2.attention.head_12.key.weight\", \"transformer_layers.2.attention.head_12.query.weight\", \"transformer_layers.2.attention.head_12.value.weight\", \"transformer_layers.2.attention.head_13.causal_mask\", \"transformer_layers.2.attention.head_13.key.weight\", \"transformer_layers.2.attention.head_13.query.weight\", \"transformer_layers.2.attention.head_13.value.weight\", \"transformer_layers.2.attention.head_14.causal_mask\", \"transformer_layers.2.attention.head_14.key.weight\", \"transformer_layers.2.attention.head_14.query.weight\", \"transformer_layers.2.attention.head_14.value.weight\", \"transformer_layers.2.attention.head_15.causal_mask\", \"transformer_layers.2.attention.head_15.key.weight\", \"transformer_layers.2.attention.head_15.query.weight\", \"transformer_layers.2.attention.head_15.value.weight\", \"transformer_layers.2.attention.out.weight\", \"transformer_layers.2.attention.out.bias\", \"transformer_layers.2.norm2.gamma\", \"transformer_layers.2.norm2.beta\", \"transformer_layers.2.feedforward.fc1.weight\", \"transformer_layers.2.feedforward.fc1.bias\", \"transformer_layers.2.feedforward.fc2.weight\", \"transformer_layers.2.feedforward.fc2.bias\", \"transformer_layers.3.norm1.gamma\", \"transformer_layers.3.norm1.beta\", \"transformer_layers.3.attention.head_0.causal_mask\", \"transformer_layers.3.attention.head_0.key.weight\", \"transformer_layers.3.attention.head_0.query.weight\", \"transformer_layers.3.attention.head_0.value.weight\", \"transformer_layers.3.attention.head_1.causal_mask\", \"transformer_layers.3.attention.head_1.key.weight\", \"transformer_layers.3.attention.head_1.query.weight\", \"transformer_layers.3.attention.head_1.value.weight\", \"transformer_layers.3.attention.head_2.causal_mask\", \"transformer_layers.3.attention.head_2.key.weight\", \"transformer_layers.3.attention.head_2.query.weight\", \"transformer_layers.3.attention.head_2.value.weight\", \"transformer_layers.3.attention.head_3.causal_mask\", \"transformer_layers.3.attention.head_3.key.weight\", \"transformer_layers.3.attention.head_3.query.weight\", \"transformer_layers.3.attention.head_3.value.weight\", \"transformer_layers.3.attention.head_4.causal_mask\", \"transformer_layers.3.attention.head_4.key.weight\", \"transformer_layers.3.attention.head_4.query.weight\", \"transformer_layers.3.attention.head_4.value.weight\", \"transformer_layers.3.attention.head_5.causal_mask\", \"transformer_layers.3.attention.head_5.key.weight\", \"transformer_layers.3.attention.head_5.query.weight\", \"transformer_layers.3.attention.head_5.value.weight\", \"transformer_layers.3.attention.head_6.causal_mask\", \"transformer_layers.3.attention.head_6.key.weight\", \"transformer_layers.3.attention.head_6.query.weight\", \"transformer_layers.3.attention.head_6.value.weight\", \"transformer_layers.3.attention.head_7.causal_mask\", \"transformer_layers.3.attention.head_7.key.weight\", \"transformer_layers.3.attention.head_7.query.weight\", \"transformer_layers.3.attention.head_7.value.weight\", \"transformer_layers.3.attention.head_8.causal_mask\", \"transformer_layers.3.attention.head_8.key.weight\", \"transformer_layers.3.attention.head_8.query.weight\", \"transformer_layers.3.attention.head_8.value.weight\", \"transformer_layers.3.attention.head_9.causal_mask\", \"transformer_layers.3.attention.head_9.key.weight\", \"transformer_layers.3.attention.head_9.query.weight\", \"transformer_layers.3.attention.head_9.value.weight\", \"transformer_layers.3.attention.head_10.causal_mask\", \"transformer_layers.3.attention.head_10.key.weight\", \"transformer_layers.3.attention.head_10.query.weight\", \"transformer_layers.3.attention.head_10.value.weight\", \"transformer_layers.3.attention.head_11.causal_mask\", \"transformer_layers.3.attention.head_11.key.weight\", \"transformer_layers.3.attention.head_11.query.weight\", \"transformer_layers.3.attention.head_11.value.weight\", \"transformer_layers.3.attention.head_12.causal_mask\", \"transformer_layers.3.attention.head_12.key.weight\", \"transformer_layers.3.attention.head_12.query.weight\", \"transformer_layers.3.attention.head_12.value.weight\", \"transformer_layers.3.attention.head_13.causal_mask\", \"transformer_layers.3.attention.head_13.key.weight\", \"transformer_layers.3.attention.head_13.query.weight\", \"transformer_layers.3.attention.head_13.value.weight\", \"transformer_layers.3.attention.head_14.causal_mask\", \"transformer_layers.3.attention.head_14.key.weight\", \"transformer_layers.3.attention.head_14.query.weight\", \"transformer_layers.3.attention.head_14.value.weight\", \"transformer_layers.3.attention.head_15.causal_mask\", \"transformer_layers.3.attention.head_15.key.weight\", \"transformer_layers.3.attention.head_15.query.weight\", \"transformer_layers.3.attention.head_15.value.weight\", \"transformer_layers.3.attention.out.weight\", \"transformer_layers.3.attention.out.bias\", \"transformer_layers.3.norm2.gamma\", \"transformer_layers.3.norm2.beta\", \"transformer_layers.3.feedforward.fc1.weight\", \"transformer_layers.3.feedforward.fc1.bias\", \"transformer_layers.3.feedforward.fc2.weight\", \"transformer_layers.3.feedforward.fc2.bias\", \"transformer_layers.4.norm1.gamma\", \"transformer_layers.4.norm1.beta\", \"transformer_layers.4.attention.head_0.causal_mask\", \"transformer_layers.4.attention.head_0.key.weight\", \"transformer_layers.4.attention.head_0.query.weight\", \"transformer_layers.4.attention.head_0.value.weight\", \"transformer_layers.4.attention.head_1.causal_mask\", \"transformer_layers.4.attention.head_1.key.weight\", \"transformer_layers.4.attention.head_1.query.weight\", \"transformer_layers.4.attention.head_1.value.weight\", \"transformer_layers.4.attention.head_2.causal_mask\", \"transformer_layers.4.attention.head_2.key.weight\", \"transformer_layers.4.attention.head_2.query.weight\", \"transformer_layers.4.attention.head_2.value.weight\", \"transformer_layers.4.attention.head_3.causal_mask\", \"transformer_layers.4.attention.head_3.key.weight\", \"transformer_layers.4.attention.head_3.query.weight\", \"transformer_layers.4.attention.head_3.value.weight\", \"transformer_layers.4.attention.head_4.causal_mask\", \"transformer_layers.4.attention.head_4.key.weight\", \"transformer_layers.4.attention.head_4.query.weight\", \"transformer_layers.4.attention.head_4.value.weight\", \"transformer_layers.4.attention.head_5.causal_mask\", \"transformer_layers.4.attention.head_5.key.weight\", \"transformer_layers.4.attention.head_5.query.weight\", \"transformer_layers.4.attention.head_5.value.weight\", \"transformer_layers.4.attention.head_6.causal_mask\", \"transformer_layers.4.attention.head_6.key.weight\", \"transformer_layers.4.attention.head_6.query.weight\", \"transformer_layers.4.attention.head_6.value.weight\", \"transformer_layers.4.attention.head_7.causal_mask\", \"transformer_layers.4.attention.head_7.key.weight\", \"transformer_layers.4.attention.head_7.query.weight\", \"transformer_layers.4.attention.head_7.value.weight\", \"transformer_layers.4.attention.head_8.causal_mask\", \"transformer_layers.4.attention.head_8.key.weight\", \"transformer_layers.4.attention.head_8.query.weight\", \"transformer_layers.4.attention.head_8.value.weight\", \"transformer_layers.4.attention.head_9.causal_mask\", \"transformer_layers.4.attention.head_9.key.weight\", \"transformer_layers.4.attention.head_9.query.weight\", \"transformer_layers.4.attention.head_9.value.weight\", \"transformer_layers.4.attention.head_10.causal_mask\", \"transformer_layers.4.attention.head_10.key.weight\", \"transformer_layers.4.attention.head_10.query.weight\", \"transformer_layers.4.attention.head_10.value.weight\", \"transformer_layers.4.attention.head_11.causal_mask\", \"transformer_layers.4.attention.head_11.key.weight\", \"transformer_layers.4.attention.head_11.query.weight\", \"transformer_layers.4.attention.head_11.value.weight\", \"transformer_layers.4.attention.head_12.causal_mask\", \"transformer_layers.4.attention.head_12.key.weight\", \"transformer_layers.4.attention.head_12.query.weight\", \"transformer_layers.4.attention.head_12.value.weight\", \"transformer_layers.4.attention.head_13.causal_mask\", \"transformer_layers.4.attention.head_13.key.weight\", \"transformer_layers.4.attention.head_13.query.weight\", \"transformer_layers.4.attention.head_13.value.weight\", \"transformer_layers.4.attention.head_14.causal_mask\", \"transformer_layers.4.attention.head_14.key.weight\", \"transformer_layers.4.attention.head_14.query.weight\", \"transformer_layers.4.attention.head_14.value.weight\", \"transformer_layers.4.attention.head_15.causal_mask\", \"transformer_layers.4.attention.head_15.key.weight\", \"transformer_layers.4.attention.head_15.query.weight\", \"transformer_layers.4.attention.head_15.value.weight\", \"transformer_layers.4.attention.out.weight\", \"transformer_layers.4.attention.out.bias\", \"transformer_layers.4.norm2.gamma\", \"transformer_layers.4.norm2.beta\", \"transformer_layers.4.feedforward.fc1.weight\", \"transformer_layers.4.feedforward.fc1.bias\", \"transformer_layers.4.feedforward.fc2.weight\", \"transformer_layers.4.feedforward.fc2.bias\", \"transformer_layers.5.norm1.gamma\", \"transformer_layers.5.norm1.beta\", \"transformer_layers.5.attention.head_0.causal_mask\", \"transformer_layers.5.attention.head_0.key.weight\", \"transformer_layers.5.attention.head_0.query.weight\", \"transformer_layers.5.attention.head_0.value.weight\", \"transformer_layers.5.attention.head_1.causal_mask\", \"transformer_layers.5.attention.head_1.key.weight\", \"transformer_layers.5.attention.head_1.query.weight\", \"transformer_layers.5.attention.head_1.value.weight\", \"transformer_layers.5.attention.head_2.causal_mask\", \"transformer_layers.5.attention.head_2.key.weight\", \"transformer_layers.5.attention.head_2.query.weight\", \"transformer_layers.5.attention.head_2.value.weight\", \"transformer_layers.5.attention.head_3.causal_mask\", \"transformer_layers.5.attention.head_3.key.weight\", \"transformer_layers.5.attention.head_3.query.weight\", \"transformer_layers.5.attention.head_3.value.weight\", \"transformer_layers.5.attention.head_4.causal_mask\", \"transformer_layers.5.attention.head_4.key.weight\", \"transformer_layers.5.attention.head_4.query.weight\", \"transformer_layers.5.attention.head_4.value.weight\", \"transformer_layers.5.attention.head_5.causal_mask\", \"transformer_layers.5.attention.head_5.key.weight\", \"transformer_layers.5.attention.head_5.query.weight\", \"transformer_layers.5.attention.head_5.value.weight\", \"transformer_layers.5.attention.head_6.causal_mask\", \"transformer_layers.5.attention.head_6.key.weight\", \"transformer_layers.5.attention.head_6.query.weight\", \"transformer_layers.5.attention.head_6.value.weight\", \"transformer_layers.5.attention.head_7.causal_mask\", \"transformer_layers.5.attention.head_7.key.weight\", \"transformer_layers.5.attention.head_7.query.weight\", \"transformer_layers.5.attention.head_7.value.weight\", \"transformer_layers.5.attention.head_8.causal_mask\", \"transformer_layers.5.attention.head_8.key.weight\", \"transformer_layers.5.attention.head_8.query.weight\", \"transformer_layers.5.attention.head_8.value.weight\", \"transformer_layers.5.attention.head_9.causal_mask\", \"transformer_layers.5.attention.head_9.key.weight\", \"transformer_layers.5.attention.head_9.query.weight\", \"transformer_layers.5.attention.head_9.value.weight\", \"transformer_layers.5.attention.head_10.causal_mask\", \"transformer_layers.5.attention.head_10.key.weight\", \"transformer_layers.5.attention.head_10.query.weight\", \"transformer_layers.5.attention.head_10.value.weight\", \"transformer_layers.5.attention.head_11.causal_mask\", \"transformer_layers.5.attention.head_11.key.weight\", \"transformer_layers.5.attention.head_11.query.weight\", \"transformer_layers.5.attention.head_11.value.weight\", \"transformer_layers.5.attention.head_12.causal_mask\", \"transformer_layers.5.attention.head_12.key.weight\", \"transformer_layers.5.attention.head_12.query.weight\", \"transformer_layers.5.attention.head_12.value.weight\", \"transformer_layers.5.attention.head_13.causal_mask\", \"transformer_layers.5.attention.head_13.key.weight\", \"transformer_layers.5.attention.head_13.query.weight\", \"transformer_layers.5.attention.head_13.value.weight\", \"transformer_layers.5.attention.head_14.causal_mask\", \"transformer_layers.5.attention.head_14.key.weight\", \"transformer_layers.5.attention.head_14.query.weight\", \"transformer_layers.5.attention.head_14.value.weight\", \"transformer_layers.5.attention.head_15.causal_mask\", \"transformer_layers.5.attention.head_15.key.weight\", \"transformer_layers.5.attention.head_15.query.weight\", \"transformer_layers.5.attention.head_15.value.weight\", \"transformer_layers.5.attention.out.weight\", \"transformer_layers.5.attention.out.bias\", \"transformer_layers.5.norm2.gamma\", \"transformer_layers.5.norm2.beta\", \"transformer_layers.5.feedforward.fc1.weight\", \"transformer_layers.5.feedforward.fc1.bias\", \"transformer_layers.5.feedforward.fc2.weight\", \"transformer_layers.5.feedforward.fc2.bias\", \"transformer_layers.6.norm1.gamma\", \"transformer_layers.6.norm1.beta\", \"transformer_layers.6.attention.head_0.causal_mask\", \"transformer_layers.6.attention.head_0.key.weight\", \"transformer_layers.6.attention.head_0.query.weight\", \"transformer_layers.6.attention.head_0.value.weight\", \"transformer_layers.6.attention.head_1.causal_mask\", \"transformer_layers.6.attention.head_1.key.weight\", \"transformer_layers.6.attention.head_1.query.weight\", \"transformer_layers.6.attention.head_1.value.weight\", \"transformer_layers.6.attention.head_2.causal_mask\", \"transformer_layers.6.attention.head_2.key.weight\", \"transformer_layers.6.attention.head_2.query.weight\", \"transformer_layers.6.attention.head_2.value.weight\", \"transformer_layers.6.attention.head_3.causal_mask\", \"transformer_layers.6.attention.head_3.key.weight\", \"transformer_layers.6.attention.head_3.query.weight\", \"transformer_layers.6.attention.head_3.value.weight\", \"transformer_layers.6.attention.head_4.causal_mask\", \"transformer_layers.6.attention.head_4.key.weight\", \"transformer_layers.6.attention.head_4.query.weight\", \"transformer_layers.6.attention.head_4.value.weight\", \"transformer_layers.6.attention.head_5.causal_mask\", \"transformer_layers.6.attention.head_5.key.weight\", \"transformer_layers.6.attention.head_5.query.weight\", \"transformer_layers.6.attention.head_5.value.weight\", \"transformer_layers.6.attention.head_6.causal_mask\", \"transformer_layers.6.attention.head_6.key.weight\", \"transformer_layers.6.attention.head_6.query.weight\", \"transformer_layers.6.attention.head_6.value.weight\", \"transformer_layers.6.attention.head_7.causal_mask\", \"transformer_layers.6.attention.head_7.key.weight\", \"transformer_layers.6.attention.head_7.query.weight\", \"transformer_layers.6.attention.head_7.value.weight\", \"transformer_layers.6.attention.head_8.causal_mask\", \"transformer_layers.6.attention.head_8.key.weight\", \"transformer_layers.6.attention.head_8.query.weight\", \"transformer_layers.6.attention.head_8.value.weight\", \"transformer_layers.6.attention.head_9.causal_mask\", \"transformer_layers.6.attention.head_9.key.weight\", \"transformer_layers.6.attention.head_9.query.weight\", \"transformer_layers.6.attention.head_9.value.weight\", \"transformer_layers.6.attention.head_10.causal_mask\", \"transformer_layers.6.attention.head_10.key.weight\", \"transformer_layers.6.attention.head_10.query.weight\", \"transformer_layers.6.attention.head_10.value.weight\", \"transformer_layers.6.attention.head_11.causal_mask\", \"transformer_layers.6.attention.head_11.key.weight\", \"transformer_layers.6.attention.head_11.query.weight\", \"transformer_layers.6.attention.head_11.value.weight\", \"transformer_layers.6.attention.head_12.causal_mask\", \"transformer_layers.6.attention.head_12.key.weight\", \"transformer_layers.6.attention.head_12.query.weight\", \"transformer_layers.6.attention.head_12.value.weight\", \"transformer_layers.6.attention.head_13.causal_mask\", \"transformer_layers.6.attention.head_13.key.weight\", \"transformer_layers.6.attention.head_13.query.weight\", \"transformer_layers.6.attention.head_13.value.weight\", \"transformer_layers.6.attention.head_14.causal_mask\", \"transformer_layers.6.attention.head_14.key.weight\", \"transformer_layers.6.attention.head_14.query.weight\", \"transformer_layers.6.attention.head_14.value.weight\", \"transformer_layers.6.attention.head_15.causal_mask\", \"transformer_layers.6.attention.head_15.key.weight\", \"transformer_layers.6.attention.head_15.query.weight\", \"transformer_layers.6.attention.head_15.value.weight\", \"transformer_layers.6.attention.out.weight\", \"transformer_layers.6.attention.out.bias\", \"transformer_layers.6.norm2.gamma\", \"transformer_layers.6.norm2.beta\", \"transformer_layers.6.feedforward.fc1.weight\", \"transformer_layers.6.feedforward.fc1.bias\", \"transformer_layers.6.feedforward.fc2.weight\", \"transformer_layers.6.feedforward.fc2.bias\", \"transformer_layers.7.norm1.gamma\", \"transformer_layers.7.norm1.beta\", \"transformer_layers.7.attention.head_0.causal_mask\", \"transformer_layers.7.attention.head_0.key.weight\", \"transformer_layers.7.attention.head_0.query.weight\", \"transformer_layers.7.attention.head_0.value.weight\", \"transformer_layers.7.attention.head_1.causal_mask\", \"transformer_layers.7.attention.head_1.key.weight\", \"transformer_layers.7.attention.head_1.query.weight\", \"transformer_layers.7.attention.head_1.value.weight\", \"transformer_layers.7.attention.head_2.causal_mask\", \"transformer_layers.7.attention.head_2.key.weight\", \"transformer_layers.7.attention.head_2.query.weight\", \"transformer_layers.7.attention.head_2.value.weight\", \"transformer_layers.7.attention.head_3.causal_mask\", \"transformer_layers.7.attention.head_3.key.weight\", \"transformer_layers.7.attention.head_3.query.weight\", \"transformer_layers.7.attention.head_3.value.weight\", \"transformer_layers.7.attention.head_4.causal_mask\", \"transformer_layers.7.attention.head_4.key.weight\", \"transformer_layers.7.attention.head_4.query.weight\", \"transformer_layers.7.attention.head_4.value.weight\", \"transformer_layers.7.attention.head_5.causal_mask\", \"transformer_layers.7.attention.head_5.key.weight\", \"transformer_layers.7.attention.head_5.query.weight\", \"transformer_layers.7.attention.head_5.value.weight\", \"transformer_layers.7.attention.head_6.causal_mask\", \"transformer_layers.7.attention.head_6.key.weight\", \"transformer_layers.7.attention.head_6.query.weight\", \"transformer_layers.7.attention.head_6.value.weight\", \"transformer_layers.7.attention.head_7.causal_mask\", \"transformer_layers.7.attention.head_7.key.weight\", \"transformer_layers.7.attention.head_7.query.weight\", \"transformer_layers.7.attention.head_7.value.weight\", \"transformer_layers.7.attention.head_8.causal_mask\", \"transformer_layers.7.attention.head_8.key.weight\", \"transformer_layers.7.attention.head_8.query.weight\", \"transformer_layers.7.attention.head_8.value.weight\", \"transformer_layers.7.attention.head_9.causal_mask\", \"transformer_layers.7.attention.head_9.key.weight\", \"transformer_layers.7.attention.head_9.query.weight\", \"transformer_layers.7.attention.head_9.value.weight\", \"transformer_layers.7.attention.head_10.causal_mask\", \"transformer_layers.7.attention.head_10.key.weight\", \"transformer_layers.7.attention.head_10.query.weight\", \"transformer_layers.7.attention.head_10.value.weight\", \"transformer_layers.7.attention.head_11.causal_mask\", \"transformer_layers.7.attention.head_11.key.weight\", \"transformer_layers.7.attention.head_11.query.weight\", \"transformer_layers.7.attention.head_11.value.weight\", \"transformer_layers.7.attention.head_12.causal_mask\", \"transformer_layers.7.attention.head_12.key.weight\", \"transformer_layers.7.attention.head_12.query.weight\", \"transformer_layers.7.attention.head_12.value.weight\", \"transformer_layers.7.attention.head_13.causal_mask\", \"transformer_layers.7.attention.head_13.key.weight\", \"transformer_layers.7.attention.head_13.query.weight\", \"transformer_layers.7.attention.head_13.value.weight\", \"transformer_layers.7.attention.head_14.causal_mask\", \"transformer_layers.7.attention.head_14.key.weight\", \"transformer_layers.7.attention.head_14.query.weight\", \"transformer_layers.7.attention.head_14.value.weight\", \"transformer_layers.7.attention.head_15.causal_mask\", \"transformer_layers.7.attention.head_15.key.weight\", \"transformer_layers.7.attention.head_15.query.weight\", \"transformer_layers.7.attention.head_15.value.weight\", \"transformer_layers.7.attention.out.weight\", \"transformer_layers.7.attention.out.bias\", \"transformer_layers.7.norm2.gamma\", \"transformer_layers.7.norm2.beta\", \"transformer_layers.7.feedforward.fc1.weight\", \"transformer_layers.7.feedforward.fc1.bias\", \"transformer_layers.7.feedforward.fc2.weight\", \"transformer_layers.7.feedforward.fc2.bias\". "
     ]
    }
   ],
   "source": [
    "# Load model from checkpoint\n",
    "model = MiniGPT(MiniGPTConfig)\n",
    "model.load_state_dict(ckpt[\"model_state_dict\"])"
   ]
  },
  {
   "cell_type": "code",
   "execution_count": null,
   "metadata": {},
   "outputs": [],
   "source": [
    "tokenizer = tiktoken.get_encoding(\"gpt2\")"
   ]
  },
  {
   "cell_type": "code",
   "execution_count": null,
   "metadata": {},
   "outputs": [],
   "source": [
    "model.to(device)\n",
    "gen_sent = \"Once upon a time\"\n",
    "gen_tokens = torch.tensor(tokenizer.encode(gen_sent))\n",
    "print(\"Generating text starting with:\", gen_tokens.shape)\n",
    "gen_tokens = gen_tokens.to(device)\n",
    "model.eval()\n",
    "print(\n",
    "    tokenizer.decode(\n",
    "        model.generate(gen_tokens, max_new_tokens=200).squeeze().tolist()\n",
    "    )\n",
    ")"
   ]
  },
  {
   "cell_type": "markdown",
   "metadata": {},
   "source": [
    "## Bonus (5 points)\n",
    "\n",
    "The following are some open ended questions that you can attempt if you have time. Feel free to propose your own as well if you have an interesting idea. \n",
    "\n",
    "1. The model we have implemented is a decoder only model. Can you implement the encoder part as well? This should not be too hard to do since most of the layers are already implemented.\n",
    "2. What are some improvements we can add to the training script to make training more efficient and faster? Can you concretely show that the improvements you made help in training the model better?\n",
    "3. Can you implement a beam search decoder to generate the text instead of greedy decoding? Does this help in generating better text?\n",
    "4. Can you further optimize the model architecture? For example, can you implement [Multi Query Attention](https://arxiv.org/abs/1911.02150) or [Grouped Query Attention](https://arxiv.org/pdf/2305.13245) to improve the model performance?"
   ]
  },
  {
   "cell_type": "markdown",
   "metadata": {},
   "source": []
  }
 ],
 "metadata": {
  "kernelspec": {
   "display_name": "Python 3 (ipykernel)",
   "language": "python",
   "name": "python3"
  },
  "language_info": {
   "codemirror_mode": {
    "name": "ipython",
    "version": 3
   },
   "file_extension": ".py",
   "mimetype": "text/x-python",
   "name": "python",
   "nbconvert_exporter": "python",
   "pygments_lexer": "ipython3",
   "version": "3.9.19"
  }
 },
 "nbformat": 4,
 "nbformat_minor": 4
}
